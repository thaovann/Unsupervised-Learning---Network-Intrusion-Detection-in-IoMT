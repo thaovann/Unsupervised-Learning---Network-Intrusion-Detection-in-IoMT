{
  "cells": [
    {
      "cell_type": "code",
      "execution_count": 1,
      "metadata": {
        "id": "fNcFZ8ILG56D"
      },
      "outputs": [],
      "source": [
        "import pandas as pd\n",
        "from sklearn.cluster import KMeans\n",
        "from sklearn.metrics import accuracy_score, precision_score, recall_score, f1_score, confusion_matrix\n",
        "from sklearn.model_selection import train_test_split"
      ]
    },
    {
      "cell_type": "code",
      "execution_count": 2,
      "metadata": {},
      "outputs": [
        {
          "name": "stdout",
          "output_type": "stream",
          "text": [
            "Kết quả trên tập test:\n",
            "Accuracy: 0.5070186454096257\n",
            "Precision: 1.0\n",
            "Recall: 0.5035627886518583\n",
            "F1 Score: 0.6698260856846139\n",
            "Confusion Matrix:\n",
            "[[ 1275     0]\n",
            " [90292 91588]]\n"
          ]
        }
      ],
      "source": [
        "data = pd.read_csv(\"data.csv\")\n",
        "X = data.drop(columns=[\"Label\"])\n",
        "y = data[\"Label\"]\n",
        "\n",
        "kmeans = KMeans(n_clusters=2, n_init=10, random_state=42)\n",
        "kmeans.fit(X)\n",
        "predictions = kmeans.predict(X)\n",
        "predictions = [1 if pred == 0 else 0 for pred in predictions]\n",
        "\n",
        "# Tính các chỉ số đánh giá\n",
        "accuracy = accuracy_score(y, predictions)\n",
        "precision = precision_score(y, predictions)\n",
        "recall = recall_score(y, predictions)\n",
        "f1 = f1_score(y, predictions)\n",
        "conf_matrix = confusion_matrix(y, predictions)\n",
        "\n",
        "print(\"Kết quả trên tập test:\")\n",
        "print(f\"Accuracy: {accuracy}\")\n",
        "print(f\"Precision: {precision}\")\n",
        "print(f\"Recall: {recall}\")\n",
        "print(f\"F1 Score: {f1}\")\n",
        "print(\"Confusion Matrix:\")\n",
        "print(conf_matrix)"
      ]
    },
    {
      "cell_type": "markdown",
      "metadata": {
        "id": "Es5DJl4WzuME"
      },
      "source": [
        "Session 0"
      ]
    },
    {
      "cell_type": "code",
      "execution_count": 3,
      "metadata": {
        "colab": {
          "base_uri": "https://localhost:8080/"
        },
        "id": "mpJTsQ-UHICv",
        "outputId": "6d4c18e8-2d17-4ee1-90bf-4b737b4b2f22"
      },
      "outputs": [
        {
          "name": "stdout",
          "output_type": "stream",
          "text": [
            "Kết quả trên tập test:\n",
            "Accuracy: 0.9985968169037154\n",
            "Precision: 0.9987916270741447\n",
            "Recall: 0.9997965691664834\n",
            "F1 Score: 0.9992938454648118\n",
            "Confusion Matrix:\n",
            "[[  1055    220]\n",
            " [    37 181843]]\n"
          ]
        }
      ],
      "source": [
        "\n",
        "data = pd.read_csv('data.csv')\n",
        "X = data[ ['101', '86', '130', '131', '136', '126']]\n",
        "y = data[\"Label\"]\n",
        "\n",
        "kmeans = KMeans(n_clusters=2, n_init = 10, random_state=42)\n",
        "kmeans.fit(X)\n",
        "\n",
        "predictions = kmeans.predict(X)\n",
        "predictions = [1 if pred == 0 else 0 for pred in predictions]\n",
        "accuracy = accuracy_score(y, predictions)\n",
        "precision = precision_score(y, predictions)\n",
        "recall = recall_score(y, predictions)\n",
        "f1 = f1_score(y, predictions)\n",
        "conf_matrix = confusion_matrix(y, predictions)\n",
        "\n",
        "print(\"Kết quả trên tập test:\")\n",
        "print(f\"Accuracy: {accuracy}\")\n",
        "print(f\"Precision: {precision}\")\n",
        "print(f\"Recall: {recall}\")\n",
        "print(f\"F1 Score: {f1}\")\n",
        "print(\"Confusion Matrix:\")\n",
        "print(conf_matrix)\n",
        "\n"
      ]
    },
    {
      "cell_type": "markdown",
      "metadata": {
        "id": "gAGxDB8Hz0y4"
      },
      "source": [
        "Session 1"
      ]
    },
    {
      "cell_type": "code",
      "execution_count": 5,
      "metadata": {
        "id": "bZjFKNifcGDs"
      },
      "outputs": [],
      "source": [
        "data = pd.read_csv(\"Session1/set1.csv\")\n",
        "\n",
        "X = data[[\"101\", \"86\", \"130\", \"131\", \"136\", \"126\"]]\n",
        "y = data[\"Label\"]"
      ]
    },
    {
      "cell_type": "code",
      "execution_count": 6,
      "metadata": {
        "colab": {
          "base_uri": "https://localhost:8080/"
        },
        "id": "AJqnZ6EScea2",
        "outputId": "80aea1e5-7da6-4f60-e8f4-f7db202e5d74"
      },
      "outputs": [
        {
          "name": "stdout",
          "output_type": "stream",
          "text": [
            "Kết quả trên tập test:\n",
            "Accuracy: 0.9985750448441769\n",
            "Precision: 0.9987630929423208\n",
            "Recall: 0.9998030144418555\n",
            "F1 Score: 0.9992827831389347\n",
            "Confusion Matrix:\n",
            "[[  1055    220]\n",
            " [    35 177643]]\n"
          ]
        }
      ],
      "source": [
        "# Khởi tạo và huấn luyện mô hình KMeans với 2 clusters (vì có 2 labels)\n",
        "kmeans = KMeans(n_clusters=2, n_init = 10, random_state=42)\n",
        "kmeans.fit(X)\n",
        "\n",
        "predictions = kmeans.predict(X)\n",
        "predictions = [1 if pred == 0 else 0 for pred in predictions]\n",
        "\n",
        "accuracy = accuracy_score(y, predictions)\n",
        "precision = precision_score(y, predictions)\n",
        "recall = recall_score(y, predictions)\n",
        "f1 = f1_score(y, predictions)\n",
        "conf_matrix = confusion_matrix(y, predictions)\n",
        "\n",
        "print(\"Kết quả trên tập test:\")\n",
        "print(f\"Accuracy: {accuracy}\")\n",
        "print(f\"Precision: {precision}\")\n",
        "print(f\"Recall: {recall}\")\n",
        "print(f\"F1 Score: {f1}\")\n",
        "print(\"Confusion Matrix:\")\n",
        "print(conf_matrix)\n"
      ]
    },
    {
      "cell_type": "code",
      "execution_count": 7,
      "metadata": {
        "id": "2NQMS-9azzKJ"
      },
      "outputs": [],
      "source": [
        "train_data = pd.read_csv(\"Session1/set1.csv\")\n",
        "test_data = pd.read_csv(\"Session1/set2.csv\")"
      ]
    },
    {
      "cell_type": "code",
      "execution_count": 8,
      "metadata": {
        "id": "T2vSfLpq0TCc"
      },
      "outputs": [],
      "source": [
        "X_train = train_data[[\"101\", \"86\", \"130\", \"131\", \"136\", \"126\"]]\n",
        "\n",
        "\n",
        "y_train = train_data[\"Label\"]\n",
        "\n",
        "\n",
        "X_test = test_data[[\"101\", \"86\", \"130\", \"131\", \"136\", \"126\"]]\n",
        "\n",
        "\n",
        "y = test_data[\"Label\"]"
      ]
    },
    {
      "cell_type": "code",
      "execution_count": 10,
      "metadata": {
        "colab": {
          "base_uri": "https://localhost:8080/"
        },
        "id": "PSSQWMCu1HWy",
        "outputId": "7e9dbc09-8936-4dee-8ae8-a9b9a8583711"
      },
      "outputs": [
        {
          "name": "stdout",
          "output_type": "stream",
          "text": [
            "Kết quả trên tập test:\n",
            "Accuracy: 0.9980961446930033\n",
            "Precision: 1.0\n",
            "Recall: 0.9980961446930033\n",
            "F1 Score: 0.9990471653168176\n",
            "Confusion Matrix:\n",
            "[[   0    0]\n",
            " [   8 4194]]\n"
          ]
        }
      ],
      "source": [
        "# Khởi tạo và huấn luyện mô hình KMeans với 2 clusters (vì có 2 labels)\n",
        "kmeans = KMeans(n_clusters=2, n_init = 10, random_state=42)\n",
        "kmeans.fit(X_test)\n",
        "predictions = kmeans.predict(X_test)\n",
        "predictions = [1 if pred == 0 else 0 for pred in predictions]\n",
        "\n",
        "    # Tính các chỉ số đánh giá\n",
        "accuracy = accuracy_score(y, predictions)\n",
        "precision = precision_score(y, predictions)\n",
        "recall = recall_score(y, predictions)\n",
        "f1 = f1_score(y, predictions)\n",
        "conf_matrix = confusion_matrix(y, predictions)\n",
        "\n",
        "print(\"Kết quả trên tập test:\")\n",
        "print(f\"Accuracy: {accuracy}\")\n",
        "print(f\"Precision: {precision}\")\n",
        "print(f\"Recall: {recall}\")\n",
        "print(f\"F1 Score: {f1}\")\n",
        "print(\"Confusion Matrix:\")\n",
        "print(conf_matrix)\n"
      ]
    },
    {
      "cell_type": "markdown",
      "metadata": {
        "id": "wG5x2ZgX1UaB"
      },
      "source": [
        "Session 2"
      ]
    },
    {
      "cell_type": "code",
      "execution_count": 11,
      "metadata": {
        "id": "a_fxUUD-cjz3"
      },
      "outputs": [],
      "source": [
        "data = pd.read_csv(\"Session2/set1.csv\")\n",
        "\n",
        "X = data[[\"101\", \"86\", \"130\", \"131\", \"136\", \"126\"]]\n",
        "y = data[\"Label\"]"
      ]
    },
    {
      "cell_type": "code",
      "execution_count": 12,
      "metadata": {
        "colab": {
          "base_uri": "https://localhost:8080/"
        },
        "id": "45VBJr3XcleL",
        "outputId": "703413af-4c4b-4335-c92f-d5cad9c152bf"
      },
      "outputs": [
        {
          "name": "stdout",
          "output_type": "stream",
          "text": [
            "Kết quả trên tập test:\n",
            "Accuracy: 0.9975413816827876\n",
            "Precision: 0.9977495447942879\n",
            "Recall: 0.9997642500589374\n",
            "F1 Score: 0.9987558814042669\n",
            "Confusion Matrix:\n",
            "[[ 1055   220]\n",
            " [   23 97538]]\n"
          ]
        }
      ],
      "source": [
        "# Khởi tạo và huấn luyện mô hình KMeans với 2 clusters (vì có 2 labels)\n",
        "kmeans = KMeans(n_clusters=2, n_init = 10, random_state=42)\n",
        "kmeans.fit(X)\n",
        "\n",
        "    # Dự đoán trên tập kiểm tra\n",
        "predictions = kmeans.predict(X)\n",
        "\n",
        "    # Vì KMeans không đảm bảo nhãn cụm giống với nhãn thật, ta cần ánh xạ lại nhãn cụm để tính các chỉ số đúng\n",
        "predictions = [1 if pred == 0 else 0 for pred in predictions]\n",
        "\n",
        "    # Tính các chỉ số đánh giá\n",
        "accuracy = accuracy_score(y, predictions)\n",
        "precision = precision_score(y, predictions)\n",
        "recall = recall_score(y, predictions)\n",
        "f1 = f1_score(y, predictions)\n",
        "conf_matrix = confusion_matrix(y, predictions)\n",
        "\n",
        "print(\"Kết quả trên tập test:\")\n",
        "print(f\"Accuracy: {accuracy}\")\n",
        "print(f\"Precision: {precision}\")\n",
        "print(f\"Recall: {recall}\")\n",
        "print(f\"F1 Score: {f1}\")\n",
        "print(\"Confusion Matrix:\")\n",
        "print(conf_matrix)\n"
      ]
    },
    {
      "cell_type": "code",
      "execution_count": 13,
      "metadata": {
        "id": "nJ41Qxjh1MMo"
      },
      "outputs": [],
      "source": [
        "train_data = pd.read_csv(\"Session2/set1.csv\")\n",
        "test_data = pd.read_csv(\"Session2/set2.csv\")"
      ]
    },
    {
      "cell_type": "code",
      "execution_count": 14,
      "metadata": {
        "id": "-NzR3B8v1z58"
      },
      "outputs": [],
      "source": [
        "X_train = train_data[['101', '86', '130', '131', '136', '126']]\n",
        "y_train = train_data[\"Label\"]\n",
        "X_test = test_data[[\"101\", \"86\", \"130\", \"131\", \"136\", \"126\"]]\n",
        "y = test_data[\"Label\"]"
      ]
    },
    {
      "cell_type": "code",
      "execution_count": 15,
      "metadata": {
        "colab": {
          "base_uri": "https://localhost:8080/"
        },
        "id": "t1lMofaC18mF",
        "outputId": "ff417045-7e60-40ac-8192-0593053c9a49"
      },
      "outputs": [
        {
          "name": "stdout",
          "output_type": "stream",
          "text": [
            "Kết quả trên tập test:\n",
            "Accuracy: 0.9998339638752831\n",
            "Precision: 1.0\n",
            "Recall: 0.9998339638752831\n",
            "F1 Score: 0.9999169750450707\n",
            "Confusion Matrix:\n",
            "[[    0     0]\n",
            " [   14 84305]]\n"
          ]
        }
      ],
      "source": [
        "# Khởi tạo và huấn luyện mô hình KMeans với 2 clusters (vì có 2 labels)\n",
        "kmeans = KMeans(n_clusters=2, n_init = 10, random_state=42)\n",
        "kmeans.fit(X_test)\n",
        "\n",
        "    # Dự đoán trên tập kiểm tra\n",
        "predictions = kmeans.predict(X_test)\n",
        "\n",
        "    # Vì KMeans không đảm bảo nhãn cụm giống với nhãn thật, ta cần ánh xạ lại nhãn cụm để tính các chỉ số đúng\n",
        "predictions = [1 if pred == 0 else 0 for pred in predictions]\n",
        "\n",
        "    # Tính các chỉ số đánh giá\n",
        "accuracy = accuracy_score(y, predictions)\n",
        "precision = precision_score(y, predictions)\n",
        "recall = recall_score(y, predictions)\n",
        "f1 = f1_score(y, predictions)\n",
        "conf_matrix = confusion_matrix(y, predictions)\n",
        "\n",
        "print(\"Kết quả trên tập test:\")\n",
        "print(f\"Accuracy: {accuracy}\")\n",
        "print(f\"Precision: {precision}\")\n",
        "print(f\"Recall: {recall}\")\n",
        "print(f\"F1 Score: {f1}\")\n",
        "print(\"Confusion Matrix:\")\n",
        "print(conf_matrix)\n"
      ]
    },
    {
      "cell_type": "markdown",
      "metadata": {
        "id": "_TlOOQ1x9N7g"
      },
      "source": [
        "Session 3"
      ]
    },
    {
      "cell_type": "code",
      "execution_count": 16,
      "metadata": {
        "id": "zy1ViDhkcnnJ"
      },
      "outputs": [],
      "source": [
        "data = pd.read_csv(\"Session3/set1.csv\")\n",
        "\n",
        "X = data[[\"101\", \"86\", \"130\", \"131\", \"136\", \"126\"]]\n",
        "y = data[\"Label\"]"
      ]
    },
    {
      "cell_type": "code",
      "execution_count": 17,
      "metadata": {
        "colab": {
          "base_uri": "https://localhost:8080/"
        },
        "id": "af6u-mgccmcd",
        "outputId": "1ada8a44-615e-4a3c-e385-5f6c4a2f2eca"
      },
      "outputs": [
        {
          "name": "stdout",
          "output_type": "stream",
          "text": [
            "Kết quả trên tập test:\n",
            "Accuracy: 0.9974714621453752\n",
            "Precision: 0.9976654357145889\n",
            "Recall: 0.999776683645799\n",
            "F1 Score: 0.9987199439112353\n",
            "Confusion Matrix:\n",
            "[[ 1055   220]\n",
            " [   21 94016]]\n"
          ]
        }
      ],
      "source": [
        "# Khởi tạo và huấn luyện mô hình KMeans với 2 clusters (vì có 2 labels)\n",
        "kmeans = KMeans(n_clusters=2, n_init = 10, random_state=42)\n",
        "kmeans.fit(X)\n",
        "\n",
        "    # Dự đoán trên tập kiểm tra\n",
        "predictions = kmeans.predict(X)\n",
        "\n",
        "    # Vì KMeans không đảm bảo nhãn cụm giống với nhãn thật, ta cần ánh xạ lại nhãn cụm để tính các chỉ số đúng\n",
        "predictions = [1 if pred == 0 else 0 for pred in predictions]\n",
        "\n",
        "    # Tính các chỉ số đánh giá\n",
        "accuracy = accuracy_score(y, predictions)\n",
        "precision = precision_score(y, predictions)\n",
        "recall = recall_score(y, predictions)\n",
        "f1 = f1_score(y, predictions)\n",
        "conf_matrix = confusion_matrix(y, predictions)\n",
        "\n",
        "print(\"Kết quả trên tập test:\")\n",
        "print(f\"Accuracy: {accuracy}\")\n",
        "print(f\"Precision: {precision}\")\n",
        "print(f\"Recall: {recall}\")\n",
        "print(f\"F1 Score: {f1}\")\n",
        "print(\"Confusion Matrix:\")\n",
        "print(conf_matrix)\n"
      ]
    },
    {
      "cell_type": "code",
      "execution_count": 18,
      "metadata": {
        "id": "sq5_7o332I3I"
      },
      "outputs": [],
      "source": [
        "train_data = pd.read_csv(\"Session3/set1.csv\")\n",
        "test_data = pd.read_csv(\"Session3/set2.csv\")\n",
        "X_train = train_data[[\"101\", \"86\", \"130\", \"131\", \"136\", \"126\"]]\n",
        "y_train = train_data[\"Label\"]\n",
        "X_test = test_data[[\"101\", \"86\", \"130\", \"131\", \"136\", \"126\"]]\n",
        "y = test_data[\"Label\"]"
      ]
    },
    {
      "cell_type": "code",
      "execution_count": 19,
      "metadata": {
        "colab": {
          "base_uri": "https://localhost:8080/"
        },
        "id": "HoxAnses9IPS",
        "outputId": "c1c03b7b-4872-4beb-8bbb-acf2e39dfc24"
      },
      "outputs": [
        {
          "name": "stdout",
          "output_type": "stream",
          "text": [
            "Kết quả trên tập test:\n",
            "Accuracy: 0.9997609371264643\n",
            "Precision: 1.0\n",
            "Recall: 0.9997609371264643\n",
            "F1 Score: 0.9998804542737597\n",
            "Confusion Matrix:\n",
            "[[    0     0]\n",
            " [   21 87822]]\n"
          ]
        }
      ],
      "source": [
        "# Khởi tạo và huấn luyện mô hình KMeans với 2 clusters (vì có 2 labels)\n",
        "kmeans = KMeans(n_clusters=2, n_init = 10, random_state=42)\n",
        "kmeans.fit(X_test)\n",
        "\n",
        "    # Dự đoán trên tập kiểm tra\n",
        "predictions = kmeans.predict(X_test)\n",
        "\n",
        "    # Vì KMeans không đảm bảo nhãn cụm giống với nhãn thật, ta cần ánh xạ lại nhãn cụm để tính các chỉ số đúng\n",
        "predictions = [1 if pred == 0 else 0 for pred in predictions]\n",
        "\n",
        "    # Tính các chỉ số đánh giá\n",
        "accuracy = accuracy_score(y, predictions)\n",
        "precision = precision_score(y, predictions)\n",
        "recall = recall_score(y, predictions)\n",
        "f1 = f1_score(y, predictions)\n",
        "conf_matrix = confusion_matrix(y, predictions)\n",
        "\n",
        "print(\"Kết quả trên tập test:\")\n",
        "print(f\"Accuracy: {accuracy}\")\n",
        "print(f\"Precision: {precision}\")\n",
        "print(f\"Recall: {recall}\")\n",
        "print(f\"F1 Score: {f1}\")\n",
        "print(\"Confusion Matrix:\")\n",
        "print(conf_matrix)"
      ]
    }
  ],
  "metadata": {
    "colab": {
      "provenance": []
    },
    "kernelspec": {
      "display_name": "Python 3",
      "name": "python3"
    },
    "language_info": {
      "codemirror_mode": {
        "name": "ipython",
        "version": 3
      },
      "file_extension": ".py",
      "mimetype": "text/x-python",
      "name": "python",
      "nbconvert_exporter": "python",
      "pygments_lexer": "ipython3",
      "version": "3.10.11"
    }
  },
  "nbformat": 4,
  "nbformat_minor": 0
}
