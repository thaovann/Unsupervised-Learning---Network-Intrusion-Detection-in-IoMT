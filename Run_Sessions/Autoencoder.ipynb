{
 "cells": [
  {
   "cell_type": "code",
   "execution_count": 1,
   "metadata": {},
   "outputs": [
    {
     "name": "stderr",
     "output_type": "stream",
     "text": [
      "c:\\Users\\admin\\AppData\\Local\\Programs\\Python\\Python310\\lib\\site-packages\\tqdm\\auto.py:21: TqdmWarning: IProgress not found. Please update jupyter and ipywidgets. See https://ipywidgets.readthedocs.io/en/stable/user_install.html\n",
      "  from .autonotebook import tqdm as notebook_tqdm\n"
     ]
    }
   ],
   "source": [
    "import pandas as pd\n",
    "import numpy as np\n",
    "from sklearn.model_selection import train_test_split\n",
    "from sklearn.metrics import (\n",
    "    accuracy_score,\n",
    "    precision_score,\n",
    "    recall_score,\n",
    "    f1_score,\n",
    "    confusion_matrix,\n",
    ")\n",
    "from tensorflow.keras.models import Model\n",
    "from tensorflow.keras.layers import Input, Dense\n",
    "from tensorflow.keras import regularizers\n",
    "import tensorflow as tf\n",
    "from tensorflow.keras.callbacks import EarlyStopping\n",
    "from tqdm.keras import TqdmCallback\n",
    "import matplotlib.pyplot as plt"
   ]
  },
  {
   "cell_type": "code",
   "execution_count": 2,
   "metadata": {},
   "outputs": [],
   "source": [
    "def create_autoencoder(input_dim):\n",
    "    input_layer = Input(shape=(input_dim,), name=\"Input\")\n",
    "    encoded = Dense(\n",
    "        4,\n",
    "        activation=\"relu\",\n",
    "        activity_regularizer=regularizers.l1(10e-5),\n",
    "        name=\"Encoding_1\",\n",
    "    )(input_layer)\n",
    "    latent = Dense(2, activation=\"relu\", name=\"Latent\")(encoded)\n",
    "    decoded = Dense(4, activation=\"relu\", name=\"Decoding_2\")(latent)\n",
    "    output_layer = Dense(input_dim, activation=\"linear\", name=\"Output\")(decoded)\n",
    "    autoencoder = Model(input_layer, output_layer)\n",
    "\n",
    "    return autoencoder\n",
    "\n",
    "\n",
    "\n",
    "def predict(model, data, threshold):\n",
    "\n",
    "    reconstructions = model.predict(data)\n",
    "\n",
    "    loss = tf.keras.losses.mae(reconstructions, data)\n",
    "\n",
    "    return (loss.numpy() < threshold).astype(int)\n",
    "\n",
    "\n",
    "\n",
    "def print_stats(predictions, labels):\n",
    "\n",
    "    accuracy = accuracy_score(labels, predictions)\n",
    "\n",
    "    precision = precision_score(labels, predictions)\n",
    "\n",
    "    recall = recall_score(labels, predictions)\n",
    "\n",
    "    f1 = f1_score(labels, predictions)\n",
    "\n",
    "    print(f\"Accuracy = {accuracy}\")\n",
    "\n",
    "    print(f\"Precision = {precision}\")\n",
    "\n",
    "    print(f\"Recall = {recall}\")\n",
    "\n",
    "    print(f\"F1 score = {f1}\")\n",
    "\n",
    "    return accuracy, precision, recall, f1"
   ]
  },
  {
   "cell_type": "markdown",
   "metadata": {},
   "source": [
    "### Session0"
   ]
  },
  {
   "cell_type": "code",
   "execution_count": 3,
   "metadata": {},
   "outputs": [],
   "source": [
    "data = pd.read_csv(\"data.csv\")\n",
    "\n",
    "X = data.drop(columns=[\"Label\"])\n",
    "y = data[\"Label\"]"
   ]
  },
  {
   "cell_type": "code",
   "execution_count": 4,
   "metadata": {},
   "outputs": [
    {
     "data": {
      "text/plain": [
       "Label\n",
       "1    181880\n",
       "0      1275\n",
       "Name: count, dtype: int64"
      ]
     },
     "execution_count": 4,
     "metadata": {},
     "output_type": "execute_result"
    }
   ],
   "source": [
    "data[\"Label\"].value_counts()"
   ]
  },
  {
   "cell_type": "code",
   "execution_count": 5,
   "metadata": {},
   "outputs": [],
   "source": [
    "X = X[['365', '101', '86', '100', '130']]"
   ]
  },
  {
   "cell_type": "code",
   "execution_count": 6,
   "metadata": {},
   "outputs": [],
   "source": [
    "X_train, X_test, y_train, y_test = train_test_split(\n",
    "        X, y, test_size=0.2, random_state=42\n",
    "    )"
   ]
  },
  {
   "cell_type": "code",
   "execution_count": 7,
   "metadata": {},
   "outputs": [
    {
     "data": {
      "text/plain": [
       "Label\n",
       "1    36365\n",
       "0      266\n",
       "Name: count, dtype: int64"
      ]
     },
     "execution_count": 7,
     "metadata": {},
     "output_type": "execute_result"
    }
   ],
   "source": [
    "y_test.value_counts()"
   ]
  },
  {
   "cell_type": "code",
   "execution_count": 8,
   "metadata": {},
   "outputs": [
    {
     "data": {
      "text/plain": [
       "5"
      ]
     },
     "execution_count": 8,
     "metadata": {},
     "output_type": "execute_result"
    }
   ],
   "source": [
    "X.shape[1]\n"
   ]
  },
  {
   "cell_type": "code",
   "execution_count": 9,
   "metadata": {},
   "outputs": [],
   "source": [
    "n_features = X.shape[1]"
   ]
  },
  {
   "cell_type": "code",
   "execution_count": 10,
   "metadata": {},
   "outputs": [
    {
     "data": {
      "text/html": [
       "<pre style=\"white-space:pre;overflow-x:auto;line-height:normal;font-family:Menlo,'DejaVu Sans Mono',consolas,'Courier New',monospace\"><span style=\"font-weight: bold\">Model: \"functional\"</span>\n",
       "</pre>\n"
      ],
      "text/plain": [
       "\u001b[1mModel: \"functional\"\u001b[0m\n"
      ]
     },
     "metadata": {},
     "output_type": "display_data"
    },
    {
     "data": {
      "text/html": [
       "<pre style=\"white-space:pre;overflow-x:auto;line-height:normal;font-family:Menlo,'DejaVu Sans Mono',consolas,'Courier New',monospace\">┏━━━━━━━━━━━━━━━━━━━━━━━━━━━━━━━━━┳━━━━━━━━━━━━━━━━━━━━━━━━┳━━━━━━━━━━━━━━━┓\n",
       "┃<span style=\"font-weight: bold\"> Layer (type)                    </span>┃<span style=\"font-weight: bold\"> Output Shape           </span>┃<span style=\"font-weight: bold\">       Param # </span>┃\n",
       "┡━━━━━━━━━━━━━━━━━━━━━━━━━━━━━━━━━╇━━━━━━━━━━━━━━━━━━━━━━━━╇━━━━━━━━━━━━━━━┩\n",
       "│ Input (<span style=\"color: #0087ff; text-decoration-color: #0087ff\">InputLayer</span>)              │ (<span style=\"color: #00d7ff; text-decoration-color: #00d7ff\">None</span>, <span style=\"color: #00af00; text-decoration-color: #00af00\">5</span>)              │             <span style=\"color: #00af00; text-decoration-color: #00af00\">0</span> │\n",
       "├─────────────────────────────────┼────────────────────────┼───────────────┤\n",
       "│ Encoding_1 (<span style=\"color: #0087ff; text-decoration-color: #0087ff\">Dense</span>)              │ (<span style=\"color: #00d7ff; text-decoration-color: #00d7ff\">None</span>, <span style=\"color: #00af00; text-decoration-color: #00af00\">4</span>)              │            <span style=\"color: #00af00; text-decoration-color: #00af00\">24</span> │\n",
       "├─────────────────────────────────┼────────────────────────┼───────────────┤\n",
       "│ Latent (<span style=\"color: #0087ff; text-decoration-color: #0087ff\">Dense</span>)                  │ (<span style=\"color: #00d7ff; text-decoration-color: #00d7ff\">None</span>, <span style=\"color: #00af00; text-decoration-color: #00af00\">2</span>)              │            <span style=\"color: #00af00; text-decoration-color: #00af00\">10</span> │\n",
       "├─────────────────────────────────┼────────────────────────┼───────────────┤\n",
       "│ Decoding_2 (<span style=\"color: #0087ff; text-decoration-color: #0087ff\">Dense</span>)              │ (<span style=\"color: #00d7ff; text-decoration-color: #00d7ff\">None</span>, <span style=\"color: #00af00; text-decoration-color: #00af00\">4</span>)              │            <span style=\"color: #00af00; text-decoration-color: #00af00\">12</span> │\n",
       "├─────────────────────────────────┼────────────────────────┼───────────────┤\n",
       "│ Output (<span style=\"color: #0087ff; text-decoration-color: #0087ff\">Dense</span>)                  │ (<span style=\"color: #00d7ff; text-decoration-color: #00d7ff\">None</span>, <span style=\"color: #00af00; text-decoration-color: #00af00\">5</span>)              │            <span style=\"color: #00af00; text-decoration-color: #00af00\">25</span> │\n",
       "└─────────────────────────────────┴────────────────────────┴───────────────┘\n",
       "</pre>\n"
      ],
      "text/plain": [
       "┏━━━━━━━━━━━━━━━━━━━━━━━━━━━━━━━━━┳━━━━━━━━━━━━━━━━━━━━━━━━┳━━━━━━━━━━━━━━━┓\n",
       "┃\u001b[1m \u001b[0m\u001b[1mLayer (type)                   \u001b[0m\u001b[1m \u001b[0m┃\u001b[1m \u001b[0m\u001b[1mOutput Shape          \u001b[0m\u001b[1m \u001b[0m┃\u001b[1m \u001b[0m\u001b[1m      Param #\u001b[0m\u001b[1m \u001b[0m┃\n",
       "┡━━━━━━━━━━━━━━━━━━━━━━━━━━━━━━━━━╇━━━━━━━━━━━━━━━━━━━━━━━━╇━━━━━━━━━━━━━━━┩\n",
       "│ Input (\u001b[38;5;33mInputLayer\u001b[0m)              │ (\u001b[38;5;45mNone\u001b[0m, \u001b[38;5;34m5\u001b[0m)              │             \u001b[38;5;34m0\u001b[0m │\n",
       "├─────────────────────────────────┼────────────────────────┼───────────────┤\n",
       "│ Encoding_1 (\u001b[38;5;33mDense\u001b[0m)              │ (\u001b[38;5;45mNone\u001b[0m, \u001b[38;5;34m4\u001b[0m)              │            \u001b[38;5;34m24\u001b[0m │\n",
       "├─────────────────────────────────┼────────────────────────┼───────────────┤\n",
       "│ Latent (\u001b[38;5;33mDense\u001b[0m)                  │ (\u001b[38;5;45mNone\u001b[0m, \u001b[38;5;34m2\u001b[0m)              │            \u001b[38;5;34m10\u001b[0m │\n",
       "├─────────────────────────────────┼────────────────────────┼───────────────┤\n",
       "│ Decoding_2 (\u001b[38;5;33mDense\u001b[0m)              │ (\u001b[38;5;45mNone\u001b[0m, \u001b[38;5;34m4\u001b[0m)              │            \u001b[38;5;34m12\u001b[0m │\n",
       "├─────────────────────────────────┼────────────────────────┼───────────────┤\n",
       "│ Output (\u001b[38;5;33mDense\u001b[0m)                  │ (\u001b[38;5;45mNone\u001b[0m, \u001b[38;5;34m5\u001b[0m)              │            \u001b[38;5;34m25\u001b[0m │\n",
       "└─────────────────────────────────┴────────────────────────┴───────────────┘\n"
      ]
     },
     "metadata": {},
     "output_type": "display_data"
    },
    {
     "data": {
      "text/html": [
       "<pre style=\"white-space:pre;overflow-x:auto;line-height:normal;font-family:Menlo,'DejaVu Sans Mono',consolas,'Courier New',monospace\"><span style=\"font-weight: bold\"> Total params: </span><span style=\"color: #00af00; text-decoration-color: #00af00\">71</span> (284.00 B)\n",
       "</pre>\n"
      ],
      "text/plain": [
       "\u001b[1m Total params: \u001b[0m\u001b[38;5;34m71\u001b[0m (284.00 B)\n"
      ]
     },
     "metadata": {},
     "output_type": "display_data"
    },
    {
     "data": {
      "text/html": [
       "<pre style=\"white-space:pre;overflow-x:auto;line-height:normal;font-family:Menlo,'DejaVu Sans Mono',consolas,'Courier New',monospace\"><span style=\"font-weight: bold\"> Trainable params: </span><span style=\"color: #00af00; text-decoration-color: #00af00\">71</span> (284.00 B)\n",
       "</pre>\n"
      ],
      "text/plain": [
       "\u001b[1m Trainable params: \u001b[0m\u001b[38;5;34m71\u001b[0m (284.00 B)\n"
      ]
     },
     "metadata": {},
     "output_type": "display_data"
    },
    {
     "data": {
      "text/html": [
       "<pre style=\"white-space:pre;overflow-x:auto;line-height:normal;font-family:Menlo,'DejaVu Sans Mono',consolas,'Courier New',monospace\"><span style=\"font-weight: bold\"> Non-trainable params: </span><span style=\"color: #00af00; text-decoration-color: #00af00\">0</span> (0.00 B)\n",
       "</pre>\n"
      ],
      "text/plain": [
       "\u001b[1m Non-trainable params: \u001b[0m\u001b[38;5;34m0\u001b[0m (0.00 B)\n"
      ]
     },
     "metadata": {},
     "output_type": "display_data"
    },
    {
     "name": "stderr",
     "output_type": "stream",
     "text": [
      "100%|██████████| 10/10 [00:23<00:00,  2.38s/epoch, loss=0.00122, val_loss=0.00136]"
     ]
    },
    {
     "name": "stdout",
     "output_type": "stream",
     "text": [
      "\u001b[1m   1/4579\u001b[0m \u001b[37m━━━━━━━━━━━━━━━━━━━━\u001b[0m \u001b[1m5:40\u001b[0m 74ms/step"
     ]
    },
    {
     "name": "stderr",
     "output_type": "stream",
     "text": [
      "\n"
     ]
    },
    {
     "name": "stdout",
     "output_type": "stream",
     "text": [
      "\u001b[1m4579/4579\u001b[0m \u001b[32m━━━━━━━━━━━━━━━━━━━━\u001b[0m\u001b[37m\u001b[0m \u001b[1m4s\u001b[0m 769us/step\n",
      "Threshold:  0.03293104734478961\n",
      "\u001b[1m1145/1145\u001b[0m \u001b[32m━━━━━━━━━━━━━━━━━━━━\u001b[0m\u001b[37m\u001b[0m \u001b[1m1s\u001b[0m 792us/step\n",
      "\u001b[1m1145/1145\u001b[0m \u001b[32m━━━━━━━━━━━━━━━━━━━━\u001b[0m\u001b[37m\u001b[0m \u001b[1m1s\u001b[0m 780us/step\n",
      "Accuracy = 0.9987169337446425\n",
      "Precision = 0.9998623651178155\n",
      "Recall = 0.9988450433108759\n",
      "F1 score = 0.9993534453111028\n",
      "[[  261     5]\n",
      " [   42 36323]]\n"
     ]
    }
   ],
   "source": [
    "autoencoder = create_autoencoder(input_dim=n_features)\n",
    "autoencoder.compile(optimizer=\"adadelta\", loss=\"mse\")\n",
    "autoencoder.summary()\n",
    "\n",
    "# Fit the model\n",
    "history = autoencoder.fit(\n",
    "    X_train,\n",
    "    X_train,\n",
    "    batch_size=64,\n",
    "    epochs=10,\n",
    "    verbose=0,\n",
    "    validation_split=0.15,\n",
    "    callbacks=[TqdmCallback(), EarlyStopping(patience=3)],\n",
    ")\n",
    "\n",
    "# Predict reconstruction errors for the training set\n",
    "reconstructions = autoencoder.predict(X_train)\n",
    "train_loss = tf.keras.losses.mae(reconstructions, X_train).numpy()\n",
    "threshold = np.mean(train_loss) + np.std(train_loss)\n",
    "print(\"Threshold: \", threshold)\n",
    "\n",
    "# Predict reconstruction errors for the test set\n",
    "reconstructions = autoencoder.predict(X_test)\n",
    "test_loss = tf.keras.losses.mae(reconstructions, X_test).numpy()\n",
    "preds = predict(autoencoder, X_test, threshold)\n",
    "\n",
    "accuracy, precision, recall, f1 = print_stats(preds, y_test)\n",
    "conf_matrix = confusion_matrix(y_test, preds)\n",
    "print(conf_matrix)"
   ]
  },
  {
   "cell_type": "markdown",
   "metadata": {},
   "source": [
    "### Session 1"
   ]
  },
  {
   "cell_type": "code",
   "execution_count": 11,
   "metadata": {},
   "outputs": [],
   "source": [
    "data = pd.read_csv(\"Session1/set1.csv\")\n",
    "\n",
    "X = data[[\"365\", \"101\", \"86\", \"100\", \"130\"]]\n",
    "y = data[\"Label\"]"
   ]
  },
  {
   "cell_type": "code",
   "execution_count": 12,
   "metadata": {},
   "outputs": [],
   "source": [
    "X_train, X_test, y_train, y_test = train_test_split(X, y, test_size=0.2, random_state=42)"
   ]
  },
  {
   "cell_type": "code",
   "execution_count": 13,
   "metadata": {},
   "outputs": [],
   "source": [
    "n_features = X.shape[1]"
   ]
  },
  {
   "cell_type": "code",
   "execution_count": 14,
   "metadata": {},
   "outputs": [
    {
     "name": "stdout",
     "output_type": "stream",
     "text": [
      "\u001b[1m4474/4474\u001b[0m \u001b[32m━━━━━━━━━━━━━━━━━━━━\u001b[0m\u001b[37m\u001b[0m \u001b[1m4s\u001b[0m 903us/step\n",
      "Threshold:  0.03360458238462908\n",
      "\u001b[1m1119/1119\u001b[0m \u001b[32m━━━━━━━━━━━━━━━━━━━━\u001b[0m\u001b[37m\u001b[0m \u001b[1m1s\u001b[0m 695us/step\n",
      "\u001b[1m1119/1119\u001b[0m \u001b[32m━━━━━━━━━━━━━━━━━━━━\u001b[0m\u001b[37m\u001b[0m \u001b[1m1s\u001b[0m 866us/step\n",
      "Accuracy = 0.9987147606940292\n",
      "Precision = 0.9998591231826891\n",
      "Recall = 0.9988459806349921\n",
      "F1 score = 0.999352295128133\n",
      "[[  258     5]\n",
      " [   41 35487]]\n"
     ]
    }
   ],
   "source": [
    "\n",
    "autoencoder = create_autoencoder(input_dim=n_features)\n",
    "autoencoder.compile(optimizer=\"adadelta\", loss=\"mse\")\n",
    "\n",
    "history = autoencoder.fit(\n",
    "    X_train,\n",
    "    X_train,\n",
    "    batch_size=64,\n",
    "    epochs=10,\n",
    "    verbose=0,\n",
    "        validation_split=0.15,\n",
    "    )\n",
    "\n",
    "    # Predict reconstruction errors for the training set\n",
    "reconstructions = autoencoder.predict(X_train)\n",
    "train_loss = tf.keras.losses.mae(reconstructions, X_train).numpy()\n",
    "threshold = np.mean(train_loss) + np.std(train_loss)\n",
    "print(\"Threshold: \", threshold)\n",
    "\n",
    "    # Predict reconstruction errors for the test set\n",
    "reconstructions = autoencoder.predict(X_test)\n",
    "test_loss = tf.keras.losses.mae(reconstructions, X_test).numpy()\n",
    "preds = predict(autoencoder, X_test, threshold)\n",
    "\n",
    "accuracy, precision, recall, f1 = print_stats(preds, y_test)\n",
    "conf_matrix = confusion_matrix(y_test, preds)\n",
    "print(conf_matrix)\n"
   ]
  },
  {
   "cell_type": "code",
   "execution_count": 15,
   "metadata": {},
   "outputs": [],
   "source": [
    "train_data = pd.read_csv(\"Session3/set1.csv\")\n",
    "test_data = pd.read_csv(\"Session3/set2.csv\")"
   ]
  },
  {
   "cell_type": "code",
   "execution_count": 16,
   "metadata": {},
   "outputs": [
    {
     "data": {
      "text/plain": [
       "Label\n",
       "1    94037\n",
       "0     1275\n",
       "Name: count, dtype: int64"
      ]
     },
     "execution_count": 16,
     "metadata": {},
     "output_type": "execute_result"
    }
   ],
   "source": [
    "train_data[\"Label\"].value_counts()"
   ]
  },
  {
   "cell_type": "code",
   "execution_count": 17,
   "metadata": {},
   "outputs": [
    {
     "data": {
      "text/plain": [
       "Label\n",
       "1    87843\n",
       "Name: count, dtype: int64"
      ]
     },
     "execution_count": 17,
     "metadata": {},
     "output_type": "execute_result"
    }
   ],
   "source": [
    "test_data[\"Label\"].value_counts()"
   ]
  },
  {
   "cell_type": "code",
   "execution_count": 18,
   "metadata": {},
   "outputs": [
    {
     "data": {
      "text/html": [
       "<div>\n",
       "<style scoped>\n",
       "    .dataframe tbody tr th:only-of-type {\n",
       "        vertical-align: middle;\n",
       "    }\n",
       "\n",
       "    .dataframe tbody tr th {\n",
       "        vertical-align: top;\n",
       "    }\n",
       "\n",
       "    .dataframe thead th {\n",
       "        text-align: right;\n",
       "    }\n",
       "</style>\n",
       "<table border=\"1\" class=\"dataframe\">\n",
       "  <thead>\n",
       "    <tr style=\"text-align: right;\">\n",
       "      <th></th>\n",
       "      <th>0</th>\n",
       "      <th>1</th>\n",
       "      <th>2</th>\n",
       "      <th>3</th>\n",
       "      <th>4</th>\n",
       "      <th>5</th>\n",
       "      <th>6</th>\n",
       "      <th>7</th>\n",
       "      <th>8</th>\n",
       "      <th>9</th>\n",
       "      <th>...</th>\n",
       "      <th>386</th>\n",
       "      <th>387</th>\n",
       "      <th>388</th>\n",
       "      <th>389</th>\n",
       "      <th>390</th>\n",
       "      <th>391</th>\n",
       "      <th>392</th>\n",
       "      <th>393</th>\n",
       "      <th>394</th>\n",
       "      <th>Label</th>\n",
       "    </tr>\n",
       "  </thead>\n",
       "  <tbody>\n",
       "    <tr>\n",
       "      <th>0</th>\n",
       "      <td>3.900883e-07</td>\n",
       "      <td>4.324641e-07</td>\n",
       "      <td>0.405991</td>\n",
       "      <td>0.004828</td>\n",
       "      <td>3.333360e-07</td>\n",
       "      <td>1.949446e-01</td>\n",
       "      <td>2.420850e-01</td>\n",
       "      <td>0.511961</td>\n",
       "      <td>0.004676</td>\n",
       "      <td>1.703327e-02</td>\n",
       "      <td>...</td>\n",
       "      <td>0.020853</td>\n",
       "      <td>0.668037</td>\n",
       "      <td>0.027608</td>\n",
       "      <td>0.00000</td>\n",
       "      <td>0.326612</td>\n",
       "      <td>0.900893</td>\n",
       "      <td>0.029277</td>\n",
       "      <td>0.003587</td>\n",
       "      <td>0.0</td>\n",
       "      <td>1</td>\n",
       "    </tr>\n",
       "    <tr>\n",
       "      <th>1</th>\n",
       "      <td>3.900883e-07</td>\n",
       "      <td>4.324641e-07</td>\n",
       "      <td>0.405991</td>\n",
       "      <td>0.004828</td>\n",
       "      <td>3.333360e-07</td>\n",
       "      <td>2.444077e-01</td>\n",
       "      <td>2.657545e-01</td>\n",
       "      <td>0.506693</td>\n",
       "      <td>0.004241</td>\n",
       "      <td>3.295399e-03</td>\n",
       "      <td>...</td>\n",
       "      <td>0.020942</td>\n",
       "      <td>0.669267</td>\n",
       "      <td>0.027799</td>\n",
       "      <td>0.00000</td>\n",
       "      <td>0.289497</td>\n",
       "      <td>0.866148</td>\n",
       "      <td>0.029697</td>\n",
       "      <td>0.005701</td>\n",
       "      <td>0.0</td>\n",
       "      <td>1</td>\n",
       "    </tr>\n",
       "    <tr>\n",
       "      <th>2</th>\n",
       "      <td>7.119112e-07</td>\n",
       "      <td>7.848839e-07</td>\n",
       "      <td>0.405991</td>\n",
       "      <td>0.004828</td>\n",
       "      <td>6.083383e-07</td>\n",
       "      <td>2.747186e-01</td>\n",
       "      <td>4.158942e-01</td>\n",
       "      <td>0.520178</td>\n",
       "      <td>0.005817</td>\n",
       "      <td>3.341714e-03</td>\n",
       "      <td>...</td>\n",
       "      <td>0.019703</td>\n",
       "      <td>0.659058</td>\n",
       "      <td>0.022932</td>\n",
       "      <td>0.00000</td>\n",
       "      <td>0.320401</td>\n",
       "      <td>0.901713</td>\n",
       "      <td>0.029353</td>\n",
       "      <td>0.003946</td>\n",
       "      <td>0.0</td>\n",
       "      <td>1</td>\n",
       "    </tr>\n",
       "    <tr>\n",
       "      <th>3</th>\n",
       "      <td>7.655483e-07</td>\n",
       "      <td>8.436193e-07</td>\n",
       "      <td>0.405991</td>\n",
       "      <td>0.004828</td>\n",
       "      <td>6.541720e-07</td>\n",
       "      <td>3.889100e-01</td>\n",
       "      <td>6.353417e-01</td>\n",
       "      <td>0.521062</td>\n",
       "      <td>0.005882</td>\n",
       "      <td>2.440278e-05</td>\n",
       "      <td>...</td>\n",
       "      <td>0.022982</td>\n",
       "      <td>0.650530</td>\n",
       "      <td>0.018111</td>\n",
       "      <td>0.00000</td>\n",
       "      <td>0.418601</td>\n",
       "      <td>0.935507</td>\n",
       "      <td>0.028277</td>\n",
       "      <td>0.000965</td>\n",
       "      <td>0.0</td>\n",
       "      <td>1</td>\n",
       "    </tr>\n",
       "    <tr>\n",
       "      <th>4</th>\n",
       "      <td>4.871228e-06</td>\n",
       "      <td>5.339467e-06</td>\n",
       "      <td>0.405991</td>\n",
       "      <td>0.004828</td>\n",
       "      <td>4.162534e-06</td>\n",
       "      <td>0.000000e+00</td>\n",
       "      <td>0.000000e+00</td>\n",
       "      <td>0.500000</td>\n",
       "      <td>0.005964</td>\n",
       "      <td>0.000000e+00</td>\n",
       "      <td>...</td>\n",
       "      <td>0.004918</td>\n",
       "      <td>0.953516</td>\n",
       "      <td>0.488683</td>\n",
       "      <td>0.00017</td>\n",
       "      <td>0.998497</td>\n",
       "      <td>0.067765</td>\n",
       "      <td>0.006707</td>\n",
       "      <td>0.574281</td>\n",
       "      <td>1.0</td>\n",
       "      <td>1</td>\n",
       "    </tr>\n",
       "    <tr>\n",
       "      <th>...</th>\n",
       "      <td>...</td>\n",
       "      <td>...</td>\n",
       "      <td>...</td>\n",
       "      <td>...</td>\n",
       "      <td>...</td>\n",
       "      <td>...</td>\n",
       "      <td>...</td>\n",
       "      <td>...</td>\n",
       "      <td>...</td>\n",
       "      <td>...</td>\n",
       "      <td>...</td>\n",
       "      <td>...</td>\n",
       "      <td>...</td>\n",
       "      <td>...</td>\n",
       "      <td>...</td>\n",
       "      <td>...</td>\n",
       "      <td>...</td>\n",
       "      <td>...</td>\n",
       "      <td>...</td>\n",
       "      <td>...</td>\n",
       "      <td>...</td>\n",
       "    </tr>\n",
       "    <tr>\n",
       "      <th>95307</th>\n",
       "      <td>3.161303e-02</td>\n",
       "      <td>2.884627e-01</td>\n",
       "      <td>0.504219</td>\n",
       "      <td>0.031784</td>\n",
       "      <td>1.742885e-03</td>\n",
       "      <td>4.334645e-08</td>\n",
       "      <td>1.852341e-07</td>\n",
       "      <td>0.710695</td>\n",
       "      <td>0.225524</td>\n",
       "      <td>1.638320e-08</td>\n",
       "      <td>...</td>\n",
       "      <td>0.000000</td>\n",
       "      <td>0.574298</td>\n",
       "      <td>0.000000</td>\n",
       "      <td>0.00000</td>\n",
       "      <td>0.015714</td>\n",
       "      <td>0.000634</td>\n",
       "      <td>0.029836</td>\n",
       "      <td>0.013857</td>\n",
       "      <td>0.0</td>\n",
       "      <td>1</td>\n",
       "    </tr>\n",
       "    <tr>\n",
       "      <th>95308</th>\n",
       "      <td>3.381838e-02</td>\n",
       "      <td>2.222273e-01</td>\n",
       "      <td>0.525749</td>\n",
       "      <td>0.052803</td>\n",
       "      <td>1.747972e-03</td>\n",
       "      <td>5.426113e-08</td>\n",
       "      <td>1.282664e-07</td>\n",
       "      <td>0.634595</td>\n",
       "      <td>0.087363</td>\n",
       "      <td>1.638320e-08</td>\n",
       "      <td>...</td>\n",
       "      <td>0.000000</td>\n",
       "      <td>0.574298</td>\n",
       "      <td>0.000000</td>\n",
       "      <td>0.00000</td>\n",
       "      <td>0.011134</td>\n",
       "      <td>0.010639</td>\n",
       "      <td>0.029387</td>\n",
       "      <td>0.013857</td>\n",
       "      <td>0.0</td>\n",
       "      <td>1</td>\n",
       "    </tr>\n",
       "    <tr>\n",
       "      <th>95309</th>\n",
       "      <td>2.285149e-02</td>\n",
       "      <td>2.159538e-01</td>\n",
       "      <td>0.519457</td>\n",
       "      <td>0.043363</td>\n",
       "      <td>1.713201e-03</td>\n",
       "      <td>3.522735e-08</td>\n",
       "      <td>1.119962e-07</td>\n",
       "      <td>0.674515</td>\n",
       "      <td>0.139519</td>\n",
       "      <td>1.638320e-08</td>\n",
       "      <td>...</td>\n",
       "      <td>0.000000</td>\n",
       "      <td>0.574298</td>\n",
       "      <td>0.000000</td>\n",
       "      <td>0.00000</td>\n",
       "      <td>0.015505</td>\n",
       "      <td>0.000933</td>\n",
       "      <td>0.029796</td>\n",
       "      <td>0.013857</td>\n",
       "      <td>0.0</td>\n",
       "      <td>1</td>\n",
       "    </tr>\n",
       "    <tr>\n",
       "      <th>95310</th>\n",
       "      <td>1.063805e-01</td>\n",
       "      <td>5.423212e-01</td>\n",
       "      <td>0.459420</td>\n",
       "      <td>0.012623</td>\n",
       "      <td>1.726206e-03</td>\n",
       "      <td>8.596697e-08</td>\n",
       "      <td>2.457140e-07</td>\n",
       "      <td>0.652903</td>\n",
       "      <td>0.116049</td>\n",
       "      <td>1.638320e-08</td>\n",
       "      <td>...</td>\n",
       "      <td>0.000000</td>\n",
       "      <td>0.574298</td>\n",
       "      <td>0.000000</td>\n",
       "      <td>0.00000</td>\n",
       "      <td>0.011043</td>\n",
       "      <td>0.009447</td>\n",
       "      <td>0.029208</td>\n",
       "      <td>0.013857</td>\n",
       "      <td>0.0</td>\n",
       "      <td>1</td>\n",
       "    </tr>\n",
       "    <tr>\n",
       "      <th>95311</th>\n",
       "      <td>1.311934e-01</td>\n",
       "      <td>3.347472e-01</td>\n",
       "      <td>0.425028</td>\n",
       "      <td>0.005284</td>\n",
       "      <td>4.092667e-02</td>\n",
       "      <td>1.099632e-07</td>\n",
       "      <td>2.019852e-07</td>\n",
       "      <td>0.587994</td>\n",
       "      <td>0.039168</td>\n",
       "      <td>3.276640e-08</td>\n",
       "      <td>...</td>\n",
       "      <td>0.000000</td>\n",
       "      <td>0.574298</td>\n",
       "      <td>0.000000</td>\n",
       "      <td>0.00000</td>\n",
       "      <td>0.000000</td>\n",
       "      <td>0.023422</td>\n",
       "      <td>0.028954</td>\n",
       "      <td>0.013857</td>\n",
       "      <td>0.0</td>\n",
       "      <td>1</td>\n",
       "    </tr>\n",
       "  </tbody>\n",
       "</table>\n",
       "<p>95312 rows × 360 columns</p>\n",
       "</div>"
      ],
      "text/plain": [
       "                  0             1         2         3             4  \\\n",
       "0      3.900883e-07  4.324641e-07  0.405991  0.004828  3.333360e-07   \n",
       "1      3.900883e-07  4.324641e-07  0.405991  0.004828  3.333360e-07   \n",
       "2      7.119112e-07  7.848839e-07  0.405991  0.004828  6.083383e-07   \n",
       "3      7.655483e-07  8.436193e-07  0.405991  0.004828  6.541720e-07   \n",
       "4      4.871228e-06  5.339467e-06  0.405991  0.004828  4.162534e-06   \n",
       "...             ...           ...       ...       ...           ...   \n",
       "95307  3.161303e-02  2.884627e-01  0.504219  0.031784  1.742885e-03   \n",
       "95308  3.381838e-02  2.222273e-01  0.525749  0.052803  1.747972e-03   \n",
       "95309  2.285149e-02  2.159538e-01  0.519457  0.043363  1.713201e-03   \n",
       "95310  1.063805e-01  5.423212e-01  0.459420  0.012623  1.726206e-03   \n",
       "95311  1.311934e-01  3.347472e-01  0.425028  0.005284  4.092667e-02   \n",
       "\n",
       "                  5             6         7         8             9  ...  \\\n",
       "0      1.949446e-01  2.420850e-01  0.511961  0.004676  1.703327e-02  ...   \n",
       "1      2.444077e-01  2.657545e-01  0.506693  0.004241  3.295399e-03  ...   \n",
       "2      2.747186e-01  4.158942e-01  0.520178  0.005817  3.341714e-03  ...   \n",
       "3      3.889100e-01  6.353417e-01  0.521062  0.005882  2.440278e-05  ...   \n",
       "4      0.000000e+00  0.000000e+00  0.500000  0.005964  0.000000e+00  ...   \n",
       "...             ...           ...       ...       ...           ...  ...   \n",
       "95307  4.334645e-08  1.852341e-07  0.710695  0.225524  1.638320e-08  ...   \n",
       "95308  5.426113e-08  1.282664e-07  0.634595  0.087363  1.638320e-08  ...   \n",
       "95309  3.522735e-08  1.119962e-07  0.674515  0.139519  1.638320e-08  ...   \n",
       "95310  8.596697e-08  2.457140e-07  0.652903  0.116049  1.638320e-08  ...   \n",
       "95311  1.099632e-07  2.019852e-07  0.587994  0.039168  3.276640e-08  ...   \n",
       "\n",
       "            386       387       388      389       390       391       392  \\\n",
       "0      0.020853  0.668037  0.027608  0.00000  0.326612  0.900893  0.029277   \n",
       "1      0.020942  0.669267  0.027799  0.00000  0.289497  0.866148  0.029697   \n",
       "2      0.019703  0.659058  0.022932  0.00000  0.320401  0.901713  0.029353   \n",
       "3      0.022982  0.650530  0.018111  0.00000  0.418601  0.935507  0.028277   \n",
       "4      0.004918  0.953516  0.488683  0.00017  0.998497  0.067765  0.006707   \n",
       "...         ...       ...       ...      ...       ...       ...       ...   \n",
       "95307  0.000000  0.574298  0.000000  0.00000  0.015714  0.000634  0.029836   \n",
       "95308  0.000000  0.574298  0.000000  0.00000  0.011134  0.010639  0.029387   \n",
       "95309  0.000000  0.574298  0.000000  0.00000  0.015505  0.000933  0.029796   \n",
       "95310  0.000000  0.574298  0.000000  0.00000  0.011043  0.009447  0.029208   \n",
       "95311  0.000000  0.574298  0.000000  0.00000  0.000000  0.023422  0.028954   \n",
       "\n",
       "            393  394  Label  \n",
       "0      0.003587  0.0      1  \n",
       "1      0.005701  0.0      1  \n",
       "2      0.003946  0.0      1  \n",
       "3      0.000965  0.0      1  \n",
       "4      0.574281  1.0      1  \n",
       "...         ...  ...    ...  \n",
       "95307  0.013857  0.0      1  \n",
       "95308  0.013857  0.0      1  \n",
       "95309  0.013857  0.0      1  \n",
       "95310  0.013857  0.0      1  \n",
       "95311  0.013857  0.0      1  \n",
       "\n",
       "[95312 rows x 360 columns]"
      ]
     },
     "execution_count": 18,
     "metadata": {},
     "output_type": "execute_result"
    }
   ],
   "source": [
    "train_data"
   ]
  },
  {
   "cell_type": "code",
   "execution_count": 19,
   "metadata": {},
   "outputs": [],
   "source": [
    "X_train = train_data[[\"365\", \"101\", \"86\", \"100\", \"130\"]]\n",
    "y_train = train_data[\"Label\"]\n",
    "X_test = test_data[[\"365\", \"101\", \"86\", \"100\", \"130\"]]\n",
    "y_test = test_data[\"Label\"]"
   ]
  },
  {
   "cell_type": "code",
   "execution_count": 20,
   "metadata": {},
   "outputs": [
    {
     "data": {
      "text/plain": [
       "Label\n",
       "1    87843\n",
       "Name: count, dtype: int64"
      ]
     },
     "execution_count": 20,
     "metadata": {},
     "output_type": "execute_result"
    }
   ],
   "source": [
    "y_test.value_counts()"
   ]
  },
  {
   "cell_type": "code",
   "execution_count": 21,
   "metadata": {},
   "outputs": [],
   "source": [
    "preds = pd.DataFrame(preds)"
   ]
  },
  {
   "cell_type": "code",
   "execution_count": 22,
   "metadata": {},
   "outputs": [
    {
     "data": {
      "text/plain": [
       "1    35492\n",
       "0      299\n",
       "Name: count, dtype: int64"
      ]
     },
     "execution_count": 22,
     "metadata": {},
     "output_type": "execute_result"
    }
   ],
   "source": [
    "preds.value_counts()"
   ]
  },
  {
   "cell_type": "code",
   "execution_count": 24,
   "metadata": {},
   "outputs": [
    {
     "name": "stdout",
     "output_type": "stream",
     "text": [
      "\u001b[1m2979/2979\u001b[0m \u001b[32m━━━━━━━━━━━━━━━━━━━━\u001b[0m\u001b[37m\u001b[0m \u001b[1m3s\u001b[0m 853us/step\n",
      "Threshold:  0.04630022152436946\n",
      "\u001b[1m2746/2746\u001b[0m \u001b[32m━━━━━━━━━━━━━━━━━━━━\u001b[0m\u001b[37m\u001b[0m \u001b[1m2s\u001b[0m 890us/step\n",
      "\u001b[1m2746/2746\u001b[0m \u001b[32m━━━━━━━━━━━━━━━━━━━━\u001b[0m\u001b[37m\u001b[0m \u001b[1m2s\u001b[0m 862us/step\n",
      "Accuracy = 0.9991006682376513\n",
      "Precision = 1.0\n",
      "Recall = 0.9991006682376513\n",
      "F1 score = 0.9995501318284579\n",
      "[[    0     0]\n",
      " [   79 87764]]\n"
     ]
    }
   ],
   "source": [
    "autoencoder = create_autoencoder(input_dim=n_features)\n",
    "autoencoder.compile(optimizer=\"adadelta\", loss=\"mse\")\n",
    "\n",
    "history = autoencoder.fit(\n",
    "    X_train,\n",
    "    X_train,\n",
    "    batch_size=64,\n",
    "    epochs=10,\n",
    "    verbose=0,\n",
    "    validation_split=0.15,\n",
    ")\n",
    "\n",
    "# Predict reconstruction errors for the training set\n",
    "reconstructions = autoencoder.predict(X_train)\n",
    "train_loss = tf.keras.losses.mae(reconstructions, X_train).numpy()\n",
    "threshold = np.mean(train_loss) + np.std(train_loss)\n",
    "print(\"Threshold: \", threshold)\n",
    "\n",
    "# Predict reconstruction errors for the test set\n",
    "reconstructions = autoencoder.predict(X_test)\n",
    "test_loss = tf.keras.losses.mae(reconstructions, X_test).numpy()\n",
    "preds = predict(autoencoder, X_test, threshold)\n",
    "\n",
    "accuracy, precision, recall, f1 = print_stats(preds, y_test)\n",
    "conf_matrix = confusion_matrix(y_test, preds)\n",
    "print(conf_matrix)"
   ]
  },
  {
   "cell_type": "markdown",
   "metadata": {},
   "source": [
    "### Session 2"
   ]
  },
  {
   "cell_type": "code",
   "execution_count": 25,
   "metadata": {},
   "outputs": [],
   "source": [
    "data = pd.read_csv(\"Session2/set1.csv\")\n",
    "\n",
    "X = data[[\"365\", \"101\", \"86\", \"100\", \"130\"]]\n",
    "y = data[\"Label\"]"
   ]
  },
  {
   "cell_type": "code",
   "execution_count": 26,
   "metadata": {},
   "outputs": [],
   "source": [
    "X_train, X_test, y_train, y_test = train_test_split(\n",
    "    X, y, test_size=0.2, random_state=42\n",
    ")\n",
    "n_features = X.shape[1]"
   ]
  },
  {
   "cell_type": "code",
   "execution_count": 27,
   "metadata": {},
   "outputs": [
    {
     "name": "stdout",
     "output_type": "stream",
     "text": [
      "\u001b[1m2471/2471\u001b[0m \u001b[32m━━━━━━━━━━━━━━━━━━━━\u001b[0m\u001b[37m\u001b[0m \u001b[1m2s\u001b[0m 863us/step\n",
      "Threshold:  0.046231011129557506\n",
      "\u001b[1m618/618\u001b[0m \u001b[32m━━━━━━━━━━━━━━━━━━━━\u001b[0m\u001b[37m\u001b[0m \u001b[1m1s\u001b[0m 1ms/step\n",
      "\u001b[1m618/618\u001b[0m \u001b[32m━━━━━━━━━━━━━━━━━━━━\u001b[0m\u001b[37m\u001b[0m \u001b[1m1s\u001b[0m 979us/step\n",
      "Accuracy = 0.9985835694050992\n",
      "Precision = 0.9993846153846154\n",
      "Recall = 0.9991796554552912\n",
      "F1 score = 0.9992821249102656\n",
      "[[  252    12]\n",
      " [   16 19488]]\n"
     ]
    }
   ],
   "source": [
    "autoencoder = create_autoencoder(input_dim=n_features)\n",
    "autoencoder.compile(optimizer=\"adadelta\", loss=\"mse\")\n",
    "\n",
    "history = autoencoder.fit(\n",
    "    X_train,\n",
    "    X_train,\n",
    "    batch_size=64,\n",
    "    epochs=10,\n",
    "    verbose=0,\n",
    "    validation_split=0.15,\n",
    ")\n",
    "\n",
    "# Predict reconstruction errors for the training set\n",
    "reconstructions = autoencoder.predict(X_train)\n",
    "train_loss = tf.keras.losses.mae(reconstructions, X_train).numpy()\n",
    "threshold = np.mean(train_loss) + np.std(train_loss)\n",
    "print(\"Threshold: \", threshold)\n",
    "\n",
    "# Predict reconstruction errors for the test set\n",
    "reconstructions = autoencoder.predict(X_test)\n",
    "test_loss = tf.keras.losses.mae(reconstructions, X_test).numpy()\n",
    "preds = predict(autoencoder, X_test, threshold)\n",
    "\n",
    "accuracy, precision, recall, f1 = print_stats(preds, y_test)\n",
    "conf_matrix = confusion_matrix(y_test, preds)\n",
    "print(conf_matrix)"
   ]
  },
  {
   "cell_type": "code",
   "execution_count": 28,
   "metadata": {},
   "outputs": [],
   "source": [
    "train_data = pd.read_csv(\"Session2/set1.csv\")\n",
    "test_data = pd.read_csv(\"Session2/set2.csv\")"
   ]
  },
  {
   "cell_type": "code",
   "execution_count": 29,
   "metadata": {},
   "outputs": [],
   "source": [
    "X_train = train_data[[\"365\", \"101\", \"86\", \"100\", \"130\"]]\n",
    "y_train = train_data[\"Label\"]\n",
    "X_test = test_data[[\"365\", \"101\", \"86\", \"100\", \"130\"]]\n",
    "y_test = test_data[\"Label\"]"
   ]
  },
  {
   "cell_type": "code",
   "execution_count": 30,
   "metadata": {},
   "outputs": [
    {
     "name": "stdout",
     "output_type": "stream",
     "text": [
      "\u001b[1m3089/3089\u001b[0m \u001b[32m━━━━━━━━━━━━━━━━━━━━\u001b[0m\u001b[37m\u001b[0m \u001b[1m2s\u001b[0m 678us/step\n",
      "Threshold:  0.044820388711354665\n",
      "\u001b[1m2635/2635\u001b[0m \u001b[32m━━━━━━━━━━━━━━━━━━━━\u001b[0m\u001b[37m\u001b[0m \u001b[1m2s\u001b[0m 650us/step\n",
      "\u001b[1m2635/2635\u001b[0m \u001b[32m━━━━━━━━━━━━━━━━━━━━\u001b[0m\u001b[37m\u001b[0m \u001b[1m2s\u001b[0m 621us/step\n",
      "Accuracy = 0.9991698193764158\n",
      "Precision = 1.0\n",
      "Recall = 0.9991698193764158\n",
      "F1 score = 0.9995847373166912\n",
      "[[    0     0]\n",
      " [   70 84249]]\n"
     ]
    }
   ],
   "source": [
    "autoencoder = create_autoencoder(input_dim=n_features)\n",
    "autoencoder.compile(optimizer=\"adadelta\", loss=\"mse\")\n",
    "\n",
    "history = autoencoder.fit(\n",
    "    X_train,\n",
    "    X_train,\n",
    "    batch_size=64,\n",
    "    epochs=10,\n",
    "    verbose=0,\n",
    "    validation_split=0.15,\n",
    ")\n",
    "\n",
    "# Predict reconstruction errors for the training set\n",
    "reconstructions = autoencoder.predict(X_train)\n",
    "train_loss = tf.keras.losses.mae(reconstructions, X_train).numpy()\n",
    "threshold = np.mean(train_loss) + np.std(train_loss)\n",
    "print(\"Threshold: \", threshold)\n",
    "\n",
    "# Predict reconstruction errors for the test set\n",
    "reconstructions = autoencoder.predict(X_test)\n",
    "test_loss = tf.keras.losses.mae(reconstructions, X_test).numpy()\n",
    "preds = predict(autoencoder, X_test, threshold)\n",
    "\n",
    "accuracy, precision, recall, f1 = print_stats(preds, y_test)\n",
    "conf_matrix = confusion_matrix(y_test, preds)\n",
    "print(conf_matrix)"
   ]
  },
  {
   "cell_type": "markdown",
   "metadata": {},
   "source": [
    "### Session 3"
   ]
  },
  {
   "cell_type": "code",
   "execution_count": 31,
   "metadata": {},
   "outputs": [],
   "source": [
    "data = pd.read_csv(\"Session3/set1.csv\")\n",
    "\n",
    "X = data[[\"365\", \"101\", \"86\", \"100\", \"130\"]]\n",
    "y = data[\"Label\"]"
   ]
  },
  {
   "cell_type": "code",
   "execution_count": 32,
   "metadata": {},
   "outputs": [],
   "source": [
    "X_train, X_test, y_train, y_test = train_test_split(\n",
    "    X, y, test_size=0.2, random_state=42\n",
    ")"
   ]
  },
  {
   "cell_type": "code",
   "execution_count": 33,
   "metadata": {},
   "outputs": [],
   "source": [
    "n_features = X.shape[1]"
   ]
  },
  {
   "cell_type": "code",
   "execution_count": 34,
   "metadata": {},
   "outputs": [
    {
     "name": "stdout",
     "output_type": "stream",
     "text": [
      "\u001b[1m2383/2383\u001b[0m \u001b[32m━━━━━━━━━━━━━━━━━━━━\u001b[0m\u001b[37m\u001b[0m \u001b[1m2s\u001b[0m 706us/step\n",
      "Threshold:  0.058166598476014034\n",
      "\u001b[1m596/596\u001b[0m \u001b[32m━━━━━━━━━━━━━━━━━━━━\u001b[0m\u001b[37m\u001b[0m \u001b[1m0s\u001b[0m 714us/step\n",
      "\u001b[1m596/596\u001b[0m \u001b[32m━━━━━━━━━━━━━━━━━━━━\u001b[0m\u001b[37m\u001b[0m \u001b[1m0s\u001b[0m 608us/step\n",
      "Accuracy = 0.998583643707706\n",
      "Precision = 0.9995213020584012\n",
      "Recall = 0.999043062200957\n",
      "F1 score = 0.9992821249102656\n",
      "[[  244     9]\n",
      " [   18 18792]]\n"
     ]
    }
   ],
   "source": [
    "autoencoder = create_autoencoder(input_dim=n_features)\n",
    "autoencoder.compile(optimizer=\"adadelta\", loss=\"mse\")\n",
    "\n",
    "history = autoencoder.fit(\n",
    "    X_train,\n",
    "    X_train,\n",
    "    batch_size=64,\n",
    "    epochs=10,\n",
    "    verbose=0,\n",
    "    validation_split=0.15,\n",
    ")\n",
    "\n",
    "# Predict reconstruction errors for the training set\n",
    "reconstructions = autoencoder.predict(X_train)\n",
    "train_loss = tf.keras.losses.mae(reconstructions, X_train).numpy()\n",
    "threshold = np.mean(train_loss) + np.std(train_loss)\n",
    "print(\"Threshold: \", threshold)\n",
    "\n",
    "# Predict reconstruction errors for the test set\n",
    "reconstructions = autoencoder.predict(X_test)\n",
    "test_loss = tf.keras.losses.mae(reconstructions, X_test).numpy()\n",
    "preds = predict(autoencoder, X_test, threshold)\n",
    "\n",
    "accuracy, precision, recall, f1 = print_stats(preds, y_test)\n",
    "conf_matrix = confusion_matrix(y_test, preds)\n",
    "print(conf_matrix)"
   ]
  },
  {
   "cell_type": "code",
   "execution_count": 35,
   "metadata": {},
   "outputs": [],
   "source": [
    "train_data = pd.read_csv(\"Session3/set1.csv\")\n",
    "test_data = pd.read_csv(\"Session3/set2.csv\")\n",
    "X_train = train_data[[\"365\", \"101\", \"86\", \"100\", \"130\"]]\n",
    "y_train = train_data[\"Label\"]\n",
    "X_test = test_data[[\"365\", \"101\", \"86\", \"100\", \"130\"]]\n",
    "y_test = test_data[\"Label\"]"
   ]
  },
  {
   "cell_type": "code",
   "execution_count": 36,
   "metadata": {},
   "outputs": [
    {
     "name": "stdout",
     "output_type": "stream",
     "text": [
      "\u001b[1m2979/2979\u001b[0m \u001b[32m━━━━━━━━━━━━━━━━━━━━\u001b[0m\u001b[37m\u001b[0m \u001b[1m2s\u001b[0m 617us/step\n",
      "Threshold:  0.04724993063342148\n",
      "\u001b[1m2746/2746\u001b[0m \u001b[32m━━━━━━━━━━━━━━━━━━━━\u001b[0m\u001b[37m\u001b[0m \u001b[1m2s\u001b[0m 607us/step\n",
      "\u001b[1m2746/2746\u001b[0m \u001b[32m━━━━━━━━━━━━━━━━━━━━\u001b[0m\u001b[37m\u001b[0m \u001b[1m2s\u001b[0m 607us/step\n",
      "Accuracy = 0.9991348200767278\n",
      "Precision = 1.0\n",
      "Recall = 0.9991348200767278\n",
      "F1 score = 0.9995672228233017\n",
      "[[    0     0]\n",
      " [   76 87767]]\n"
     ]
    }
   ],
   "source": [
    "autoencoder = create_autoencoder(input_dim=n_features)\n",
    "autoencoder.compile(optimizer=\"adadelta\", loss=\"mse\")\n",
    "\n",
    "history = autoencoder.fit(\n",
    "    X_train,\n",
    "    X_train,\n",
    "    batch_size=64,\n",
    "    epochs=10,\n",
    "    verbose=0,\n",
    "    validation_split=0.15,\n",
    ")\n",
    "\n",
    "# Predict reconstruction errors for the training set\n",
    "reconstructions = autoencoder.predict(X_train)\n",
    "train_loss = tf.keras.losses.mae(reconstructions, X_train).numpy()\n",
    "threshold = np.mean(train_loss) + np.std(train_loss)\n",
    "print(\"Threshold: \", threshold)\n",
    "\n",
    "# Predict reconstruction errors for the test set\n",
    "reconstructions = autoencoder.predict(X_test)\n",
    "test_loss = tf.keras.losses.mae(reconstructions, X_test).numpy()\n",
    "preds = predict(autoencoder, X_test, threshold)\n",
    "\n",
    "accuracy, precision, recall, f1 = print_stats(preds, y_test)\n",
    "conf_matrix = confusion_matrix(y_test, preds)\n",
    "print(conf_matrix)"
   ]
  }
 ],
 "metadata": {
  "kernelspec": {
   "display_name": "Python 3",
   "language": "python",
   "name": "python3"
  },
  "language_info": {
   "codemirror_mode": {
    "name": "ipython",
    "version": 3
   },
   "file_extension": ".py",
   "mimetype": "text/x-python",
   "name": "python",
   "nbconvert_exporter": "python",
   "pygments_lexer": "ipython3",
   "version": "3.10.11"
  }
 },
 "nbformat": 4,
 "nbformat_minor": 2
}
