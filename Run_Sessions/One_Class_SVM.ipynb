{
  "cells": [
    {
      "cell_type": "code",
      "execution_count": 1,
      "metadata": {
        "id": "ugjy3O9AnT7K"
      },
      "outputs": [],
      "source": [
        "import pandas as pd\n",
        "from sklearn.svm import OneClassSVM\n",
        "from sklearn.metrics import accuracy_score, precision_score, recall_score, f1_score, confusion_matrix\n",
        "from sklearn.model_selection import train_test_split\n",
        "from sklearn.decomposition import PCA\n",
        "from sklearn.model_selection import GridSearchCV"
      ]
    },
    {
      "cell_type": "code",
      "execution_count": 8,
      "metadata": {},
      "outputs": [],
      "source": [
        "# Đọc dữ liệu từ file CSV\n",
        "data = pd.read_csv(\"data.csv\")\n",
        "\n",
        "X = data[[\"101\", \"86\", \"100\", \"130\", \"131\", \"136\"]]\n",
        "y_test = data[\"Label\"]\n",
        "\n"
      ]
    },
    {
      "cell_type": "code",
      "execution_count": 9,
      "metadata": {},
      "outputs": [
        {
          "name": "stdout",
          "output_type": "stream",
          "text": [
            "Kết quả trên tập test:\n",
            "Accuracy: 0.9065927766099752\n",
            "Precision: 0.9933245992644152\n",
            "Recall: 0.9065927766099752\n",
            "F1 Score: 0.9449227558467642\n",
            "Confusion Matrix:\n",
            "[[  1244     31]\n",
            " [ 17077 164803]]\n"
          ]
        }
      ],
      "source": [
        "from sklearn.ensemble import RandomForestClassifier\n",
        "from sklearn.feature_selection import RFE\n",
        "\n",
        "metrics = []\n",
        "confusion_matrixs = []\n",
        "\n",
        "n_components = min(20, X.shape[1])\n",
        "pca = PCA(n_components=n_components)\n",
        "reduced_data = pca.fit_transform(X)\n",
        "reduced_df = pd.DataFrame(reduced_data, columns=[f'Component {i+1}' for i in range(n_components)])\n",
        "\n",
        "oc_svm = OneClassSVM(kernel='rbf', gamma='auto', nu=0.1)\n",
        "oc_svm.fit(reduced_df)\n",
        "y_pred = oc_svm.predict(reduced_df)\n",
        "y_pred = [0 if x == -1 else 1 for x in y_pred]\n",
        "accuracy_test = accuracy_score(y_test, y_pred)\n",
        "precision_test = precision_score(y_test, y_pred, average=\"weighted\")\n",
        "recall_test = recall_score(y_test, y_pred, average=\"weighted\")\n",
        "f1_test = f1_score(y_test, y_pred, average=\"weighted\")\n",
        "conf_matrix_test = confusion_matrix(y_test, y_pred)\n",
        "\n",
        "print(\"Kết quả trên tập test:\")\n",
        "print(f\"Accuracy: {accuracy_test}\")\n",
        "print(f\"Precision: {precision_test}\")\n",
        "print(f\"Recall: {recall_test}\")\n",
        "print(f\"F1 Score: {f1_test}\")\n",
        "print(\"Confusion Matrix:\")\n",
        "print(conf_matrix_test)"
      ]
    },
    {
      "cell_type": "markdown",
      "metadata": {
        "id": "e99WA8QBEb14"
      },
      "source": [
        "Session 0"
      ]
    },
    {
      "cell_type": "code",
      "execution_count": 19,
      "metadata": {
        "colab": {
          "base_uri": "https://localhost:8080/"
        },
        "id": "pqF_Dl915Llq",
        "outputId": "adaeba1b-d0e9-4b61-9c4f-d53ef28051fe"
      },
      "outputs": [
        {
          "name": "stdout",
          "output_type": "stream",
          "text": [
            "Kết quả trên tập test:\n",
            "Accuracy: 0.9042341186426797\n",
            "Precision: 0.9930590393022266\n",
            "Recall: 0.9042341186426797\n",
            "F1 Score: 0.9433750280810744\n",
            "Confusion Matrix:\n",
            "[[  260     6]\n",
            " [ 3502 32863]]\n"
          ]
        }
      ],
      "source": [
        "# Đọc dữ liệu từ file CSV\n",
        "data = pd.read_csv('data.csv')\n",
        "\n",
        "X = data[[\"101\", \"86\", \"100\", \"130\", \"131\", \"136\"]]\n",
        "y = data[\"Label\"]\n",
        "\n",
        "\n",
        "X_train, X_test, y_train, y_test = train_test_split(\n",
        "    X, y, test_size=0.2, random_state=42\n",
        ")\n",
        "\n",
        "oc_svm = OneClassSVM(kernel=\"rbf\", gamma=\"auto\", nu=0.1)\n",
        "oc_svm.fit(X_train)\n",
        "\n",
        "# Predict results\n",
        "preds = oc_svm.predict(X_test)\n",
        "\n",
        "# Convert predicted labels (-1, 1) to (0, 1)\n",
        "y_pred = [0 if x == -1 else 1 for x in preds]\n",
        "\n",
        "# Đánh giá kết quả trên tập test\n",
        "accuracy_test = accuracy_score(y_test, y_pred)\n",
        "precision_test = precision_score(y_test, y_pred, average=\"weighted\")\n",
        "recall_test = recall_score(y_test, y_pred, average=\"weighted\")\n",
        "f1_test = f1_score(y_test, y_pred, average=\"weighted\")\n",
        "conf_matrix_test = confusion_matrix(y_test, y_pred)\n",
        "\n",
        "# Hiển thị kết quả trên tập test\n",
        "print(\"Kết quả trên tập test:\")\n",
        "print(f\"Accuracy: {accuracy_test}\")\n",
        "print(f\"Precision: {precision_test}\")\n",
        "print(f\"Recall: {recall_test}\")\n",
        "print(f\"F1 Score: {f1_test}\")\n",
        "print(\"Confusion Matrix:\")\n",
        "print(conf_matrix_test)"
      ]
    },
    {
      "cell_type": "code",
      "execution_count": 4,
      "metadata": {},
      "outputs": [
        {
          "data": {
            "text/plain": [
              "Label\n",
              "1    177678\n",
              "0      1275\n",
              "Name: count, dtype: int64"
            ]
          },
          "execution_count": 4,
          "metadata": {},
          "output_type": "execute_result"
        }
      ],
      "source": [
        "y_test.value_counts()"
      ]
    },
    {
      "cell_type": "markdown",
      "metadata": {
        "id": "vJ465xVAEgOx"
      },
      "source": [
        "Session 1"
      ]
    },
    {
      "cell_type": "code",
      "execution_count": 2,
      "metadata": {
        "id": "aa8IMg9faycZ"
      },
      "outputs": [],
      "source": [
        "data = pd.read_csv(\"Session1/set1.csv\")\n",
        "\n",
        "X = data[[\"101\", \"86\", \"100\", \"130\", \"131\", \"136\", \"85\"]]\n",
        "y = data[\"Label\"]"
      ]
    },
    {
      "cell_type": "code",
      "execution_count": 3,
      "metadata": {
        "colab": {
          "base_uri": "https://localhost:8080/"
        },
        "id": "kZpFJ83da5I_",
        "outputId": "f0d9b2cd-f77a-4b19-e6b4-d0a568c5e5ba"
      },
      "outputs": [
        {
          "name": "stdout",
          "output_type": "stream",
          "text": [
            "Kết quả trên tập test:\n",
            "Accuracy: 0.9067352880365236\n",
            "Precision: 0.9932247168501108\n",
            "Recall: 0.9067352880365236\n",
            "F1 Score: 0.9448805198641114\n",
            "Confusion Matrix:\n",
            "[[  1251     24]\n",
            " [ 16666 161012]]\n"
          ]
        }
      ],
      "source": [
        "# Khởi tạo và huấn luyện mô hình SVM\n",
        "oc_svm = OneClassSVM(kernel=\"rbf\", gamma=\"auto\", nu=0.1)\n",
        "preds = oc_svm.fit_predict(X)\n",
        "y_pred = [0 if x == -1 else 1 for x in preds]\n",
        "\n",
        "accuracy_test = accuracy_score(y, y_pred)\n",
        "precision_test = precision_score(y, y_pred, average=\"weighted\")\n",
        "recall_test = recall_score(y, y_pred, average=\"weighted\")\n",
        "f1_test = f1_score(y, y_pred, average=\"weighted\")\n",
        "conf_matrix_test = confusion_matrix(y, y_pred)\n",
        "\n",
        "# Hiển thị kết quả trên tập test\n",
        "print(\"Kết quả trên tập test:\")\n",
        "print(f\"Accuracy: {accuracy_test}\")\n",
        "print(f\"Precision: {precision_test}\")\n",
        "print(f\"Recall: {recall_test}\")\n",
        "print(f\"F1 Score: {f1_test}\")\n",
        "print(\"Confusion Matrix:\")\n",
        "print(conf_matrix_test)"
      ]
    },
    {
      "cell_type": "code",
      "execution_count": 4,
      "metadata": {
        "id": "B9rX7gE8EfKx"
      },
      "outputs": [],
      "source": [
        "train_data = pd.read_csv(\"Session1/set1.csv\")\n",
        "test_data = pd.read_csv(\"Session1/set2.csv\")"
      ]
    },
    {
      "cell_type": "code",
      "execution_count": 5,
      "metadata": {
        "id": "nd4ifoHVEpXA"
      },
      "outputs": [],
      "source": [
        "X_train = train_data[[\"101\", \"86\", \"100\", \"130\", \"131\", \"136\", \"85\"]]\n",
        "y_train = train_data[\"Label\"]\n",
        "X_test = test_data[[\"101\", \"86\", \"100\", \"130\", \"131\", \"136\", \"85\"]]\n",
        "y_test = test_data[\"Label\"]"
      ]
    },
    {
      "cell_type": "code",
      "execution_count": 6,
      "metadata": {
        "colab": {
          "base_uri": "https://localhost:8080/"
        },
        "id": "EY5ixwU1Eq0o",
        "outputId": "1693569f-30da-4825-eca2-67fc4202353a"
      },
      "outputs": [
        {
          "name": "stdout",
          "output_type": "stream",
          "text": [
            "Kết quả trên tập test:\n",
            "Accuracy: 0.9976201808662541\n",
            "Precision: 1.0\n",
            "Recall: 0.9976201808662541\n",
            "F1 Score: 0.9988086728615678\n",
            "Confusion Matrix:\n",
            "[[   0    0]\n",
            " [  10 4192]]\n"
          ]
        },
        {
          "name": "stderr",
          "output_type": "stream",
          "text": [
            "c:\\Users\\admin\\AppData\\Local\\Programs\\Python\\Python310\\lib\\site-packages\\sklearn\\metrics\\_classification.py:1531: UndefinedMetricWarning: Recall is ill-defined and being set to 0.0 in labels with no true samples. Use `zero_division` parameter to control this behavior.\n",
            "  _warn_prf(average, modifier, f\"{metric.capitalize()} is\", len(result))\n"
          ]
        }
      ],
      "source": [
        "# Khởi tạo và huấn luyện mô hình SVM\n",
        "svm_model = OneClassSVM(kernel='rbf', gamma='auto', nu =0.1)  # Sử dụng kernel RBF\n",
        "svm_model.fit(X_train)\n",
        "\n",
        "# Dự đoán nhãn cho tập test\n",
        "y_pred_test = svm_model.predict(X_test)\n",
        "\n",
        "# Đánh giá kết quả trên tập test\n",
        "accuracy_test = accuracy_score(y_test, y_pred_test)\n",
        "precision_test = precision_score(y_test, y_pred_test, average='weighted')\n",
        "recall_test = recall_score(y_test, y_pred_test, average='weighted')\n",
        "f1_test = f1_score(y_test, y_pred_test, average='weighted')\n",
        "conf_matrix_test = confusion_matrix(y_test, y_pred_test)\n",
        "\n",
        "# Hiển thị kết quả trên tập test\n",
        "print(\"Kết quả trên tập test:\")\n",
        "print(f\"Accuracy: {accuracy_test}\")\n",
        "print(f\"Precision: {precision_test}\")\n",
        "print(f\"Recall: {recall_test}\")\n",
        "print(f\"F1 Score: {f1_test}\")\n",
        "print(\"Confusion Matrix:\")\n",
        "print(conf_matrix_test)"
      ]
    },
    {
      "cell_type": "markdown",
      "metadata": {
        "id": "sFpHz0ybFTV-"
      },
      "source": [
        "Session 2"
      ]
    },
    {
      "cell_type": "code",
      "execution_count": 7,
      "metadata": {
        "id": "gMjlPq5fbAPa"
      },
      "outputs": [],
      "source": [
        "data = pd.read_csv(\"Session2/set1.csv\")\n",
        "\n",
        "X = data[[\"101\", \"86\", \"100\", \"130\", \"131\", \"136\", \"85\"]]\n",
        "y = data[\"Label\"]\n",
        "X_train, X_test, y_train, y_test = train_test_split(\n",
        "    X, y, test_size=0.2, random_state=42\n",
        ")"
      ]
    },
    {
      "cell_type": "code",
      "execution_count": 8,
      "metadata": {
        "colab": {
          "base_uri": "https://localhost:8080/"
        },
        "id": "MC90zWVNbJpl",
        "outputId": "1aebe22b-57a5-4ec6-cc09-cc328abbfa15"
      },
      "outputs": [
        {
          "name": "stdout",
          "output_type": "stream",
          "text": [
            "Kết quả trên tập test:\n",
            "Accuracy: 0.9008498583569405\n",
            "Precision: 0.9859806754990891\n",
            "Recall: 0.9008498583569405\n",
            "F1 Score: 0.9414947828418052\n",
            "Confusion Matrix:\n",
            "[[    0     0     0]\n",
            " [  252     0    12]\n",
            " [ 1696     0 17808]]\n"
          ]
        },
        {
          "name": "stderr",
          "output_type": "stream",
          "text": [
            "c:\\Users\\admin\\AppData\\Local\\Programs\\Python\\Python310\\lib\\site-packages\\sklearn\\metrics\\_classification.py:1531: UndefinedMetricWarning: Precision is ill-defined and being set to 0.0 in labels with no predicted samples. Use `zero_division` parameter to control this behavior.\n",
            "  _warn_prf(average, modifier, f\"{metric.capitalize()} is\", len(result))\n",
            "c:\\Users\\admin\\AppData\\Local\\Programs\\Python\\Python310\\lib\\site-packages\\sklearn\\metrics\\_classification.py:1531: UndefinedMetricWarning: Recall is ill-defined and being set to 0.0 in labels with no true samples. Use `zero_division` parameter to control this behavior.\n",
            "  _warn_prf(average, modifier, f\"{metric.capitalize()} is\", len(result))\n"
          ]
        }
      ],
      "source": [
        "\n",
        "svm_model = OneClassSVM(kernel='rbf', gamma='auto', nu=0.1)  # Sử dụng kernel RBF\n",
        "svm_model.fit(X_train)\n",
        "y_pred_test = svm_model.predict(X_test)\n",
        "y_pred = [0 if x == -1 else 1 for x in y_pred]\n",
        "\n",
        "\n",
        "accuracy_test = accuracy_score(y_test, y_pred_test)\n",
        "precision_test = precision_score(y_test, y_pred_test, average='weighted')\n",
        "recall_test = recall_score(y_test, y_pred_test, average='weighted')\n",
        "f1_test = f1_score(y_test, y_pred_test, average='weighted')\n",
        "conf_matrix_test = confusion_matrix(y_test, y_pred_test)\n",
        "\n",
        "# Hiển thị kết quả trên tập test\n",
        "print(\"Kết quả trên tập test:\")\n",
        "print(f\"Accuracy: {accuracy_test}\")\n",
        "print(f\"Precision: {precision_test}\")\n",
        "print(f\"Recall: {recall_test}\")\n",
        "print(f\"F1 Score: {f1_test}\")\n",
        "print(\"Confusion Matrix:\")\n",
        "print(conf_matrix_test)"
      ]
    },
    {
      "cell_type": "code",
      "execution_count": 9,
      "metadata": {
        "id": "AmAnj6vFFRVh"
      },
      "outputs": [],
      "source": [
        "train_data = pd.read_csv(\"Session2/set1.csv\")\n",
        "test_data = pd.read_csv(\"Session2/set2.csv\")"
      ]
    },
    {
      "cell_type": "code",
      "execution_count": 10,
      "metadata": {
        "id": "Ri3HRgVsFWpZ"
      },
      "outputs": [],
      "source": [
        "X_train = train_data[[\"101\", \"86\", \"100\", \"130\", \"131\", \"136\", \"85\"]]\n",
        "y_train = train_data[\"Label\"]\n",
        "X_test = test_data[[\"101\", \"86\", \"100\", \"130\", \"131\", \"136\", \"85\"]]\n",
        "y_test = test_data[\"Label\"]"
      ]
    },
    {
      "cell_type": "code",
      "execution_count": 11,
      "metadata": {},
      "outputs": [
        {
          "data": {
            "text/plain": [
              "(84319, 7)"
            ]
          },
          "execution_count": 11,
          "metadata": {},
          "output_type": "execute_result"
        }
      ],
      "source": [
        "X_test.shape"
      ]
    },
    {
      "cell_type": "code",
      "execution_count": 12,
      "metadata": {
        "colab": {
          "base_uri": "https://localhost:8080/"
        },
        "id": "IUgViualFa83",
        "outputId": "2c7a2f7b-982b-45b7-dcbf-4c17cb91bf8e"
      },
      "outputs": [
        {
          "name": "stdout",
          "output_type": "stream",
          "text": [
            "Kết quả trên tập test:\n",
            "Accuracy: 0.9402862937179046\n",
            "Precision: 1.0\n",
            "Recall: 0.9402862937179046\n",
            "F1 Score: 0.9692242807283485\n",
            "Confusion Matrix:\n",
            "[[    0     0]\n",
            " [ 5035 79284]]\n"
          ]
        },
        {
          "name": "stderr",
          "output_type": "stream",
          "text": [
            "c:\\Users\\admin\\AppData\\Local\\Programs\\Python\\Python310\\lib\\site-packages\\sklearn\\metrics\\_classification.py:1531: UndefinedMetricWarning: Recall is ill-defined and being set to 0.0 in labels with no true samples. Use `zero_division` parameter to control this behavior.\n",
            "  _warn_prf(average, modifier, f\"{metric.capitalize()} is\", len(result))\n"
          ]
        }
      ],
      "source": [
        "\n",
        "svm_model = OneClassSVM(kernel='rbf', gamma='auto', nu=0.1)\n",
        "svm_model.fit(X_train)\n",
        "\n",
        "y_pred_test = svm_model.predict(X_test)\n",
        "\n",
        "y_pred = [0 if x == -1 else 1 for x in y_pred_test]\n",
        "accuracy_test = accuracy_score(y_test, y_pred_test)\n",
        "precision_test = precision_score(y_test, y_pred_test, average='weighted')\n",
        "recall_test = recall_score(y_test, y_pred_test, average='weighted')\n",
        "f1_test = f1_score(y_test, y_pred_test, average='weighted')\n",
        "conf_matrix_test = confusion_matrix(y_test, y_pred_test)\n",
        "\n",
        "print(\"Kết quả trên tập test:\")\n",
        "print(f\"Accuracy: {accuracy_test}\")\n",
        "print(f\"Precision: {precision_test}\")\n",
        "print(f\"Recall: {recall_test}\")\n",
        "print(f\"F1 Score: {f1_test}\")\n",
        "print(\"Confusion Matrix:\")\n",
        "print(conf_matrix_test)"
      ]
    },
    {
      "cell_type": "markdown",
      "metadata": {
        "id": "X8gEj17PFilA"
      },
      "source": [
        "Session 3"
      ]
    },
    {
      "cell_type": "code",
      "execution_count": 13,
      "metadata": {
        "id": "kGxERCaLb0SM"
      },
      "outputs": [],
      "source": [
        "data = pd.read_csv(\"Session3/set1.csv\")\n",
        "\n",
        "X = data[[\"101\", \"86\", \"100\", \"130\", \"131\", \"136\", \"85\"]]\n",
        "y_test = data[\"Label\"]"
      ]
    },
    {
      "cell_type": "code",
      "execution_count": 14,
      "metadata": {
        "colab": {
          "base_uri": "https://localhost:8080/"
        },
        "id": "qKEqKuEGb-Vw",
        "outputId": "d4dd9b3d-461f-4eae-c385-93fa44cd1846"
      },
      "outputs": [
        {
          "name": "stdout",
          "output_type": "stream",
          "text": [
            "Kết quả trên tập test:\n",
            "Accuracy: 0.8994145543058587\n",
            "Precision: 0.9860362623957755\n",
            "Recall: 0.8994145543058587\n",
            "F1 Score: 0.9407356135903414\n",
            "Confusion Matrix:\n",
            "[[    0     0     0]\n",
            " [ 1224     0    51]\n",
            " [ 8312     0 85725]]\n"
          ]
        },
        {
          "name": "stderr",
          "output_type": "stream",
          "text": [
            "c:\\Users\\admin\\AppData\\Local\\Programs\\Python\\Python310\\lib\\site-packages\\sklearn\\metrics\\_classification.py:1531: UndefinedMetricWarning: Precision is ill-defined and being set to 0.0 in labels with no predicted samples. Use `zero_division` parameter to control this behavior.\n",
            "  _warn_prf(average, modifier, f\"{metric.capitalize()} is\", len(result))\n",
            "c:\\Users\\admin\\AppData\\Local\\Programs\\Python\\Python310\\lib\\site-packages\\sklearn\\metrics\\_classification.py:1531: UndefinedMetricWarning: Recall is ill-defined and being set to 0.0 in labels with no true samples. Use `zero_division` parameter to control this behavior.\n",
            "  _warn_prf(average, modifier, f\"{metric.capitalize()} is\", len(result))\n"
          ]
        }
      ],
      "source": [
        "# Khởi tạo và huấn luyện mô hình SVM\n",
        "svm_model = OneClassSVM(kernel='rbf', gamma='auto', nu=0.1)  # Sử dụng kernel RBF\n",
        "svm_model.fit(X)\n",
        "\n",
        "# Dự đoán nhãn cho tập test\n",
        "y_pred_test = svm_model.predict(X)\n",
        "\n",
        "# Đánh giá kết quả trên tập test\n",
        "accuracy_test = accuracy_score(y_test, y_pred_test)\n",
        "precision_test = precision_score(y_test, y_pred_test, average='weighted')\n",
        "recall_test = recall_score(y_test, y_pred_test, average='weighted')\n",
        "f1_test = f1_score(y_test, y_pred_test, average='weighted')\n",
        "conf_matrix_test = confusion_matrix(y_test, y_pred_test)\n",
        "\n",
        "# Hiển thị kết quả trên tập test\n",
        "print(\"Kết quả trên tập test:\")\n",
        "print(f\"Accuracy: {accuracy_test}\")\n",
        "print(f\"Precision: {precision_test}\")\n",
        "print(f\"Recall: {recall_test}\")\n",
        "print(f\"F1 Score: {f1_test}\")\n",
        "print(\"Confusion Matrix:\")\n",
        "print(conf_matrix_test)"
      ]
    },
    {
      "cell_type": "code",
      "execution_count": 15,
      "metadata": {
        "id": "9LBfOxXQFhkR"
      },
      "outputs": [],
      "source": [
        "train_data = pd.read_csv(\"Session3/set1.csv\")\n",
        "test_data = pd.read_csv(\"Session3/set2.csv\")\n",
        "X_train = train_data[[\"101\", \"86\", \"100\", \"130\", \"131\", \"136\", \"85\"]]\n",
        "y_train = train_data[\"Label\"]\n",
        "X_test = test_data[[\"101\", \"86\", \"100\", \"130\", \"131\", \"136\", \"85\"]]\n",
        "y_test = test_data[\"Label\"]"
      ]
    },
    {
      "cell_type": "code",
      "execution_count": 16,
      "metadata": {
        "colab": {
          "base_uri": "https://localhost:8080/"
        },
        "id": "CvO63MgsFpBB",
        "outputId": "15724491-6b74-402f-b5b5-3da9ef08f1b7"
      },
      "outputs": [
        {
          "name": "stdout",
          "output_type": "stream",
          "text": [
            "Kết quả trên tập test:\n",
            "Accuracy: 0.9441389752171487\n",
            "Precision: 1.0\n",
            "Recall: 0.9441389752171487\n",
            "F1 Score: 0.9712669590523425\n",
            "Confusion Matrix:\n",
            "[[    0     0]\n",
            " [ 4907 82936]]\n"
          ]
        },
        {
          "name": "stderr",
          "output_type": "stream",
          "text": [
            "c:\\Users\\admin\\AppData\\Local\\Programs\\Python\\Python310\\lib\\site-packages\\sklearn\\metrics\\_classification.py:1531: UndefinedMetricWarning: Recall is ill-defined and being set to 0.0 in labels with no true samples. Use `zero_division` parameter to control this behavior.\n",
            "  _warn_prf(average, modifier, f\"{metric.capitalize()} is\", len(result))\n"
          ]
        }
      ],
      "source": [
        "\n",
        "svm_model = OneClassSVM(kernel='rbf', gamma='auto', nu = 0.1)  # Sử dụng kernel RBF\n",
        "svm_model.fit(X_train)\n",
        "y_pred_test = svm_model.predict(X_test)\n",
        "\n",
        "\n",
        "accuracy_test = accuracy_score(y_test, y_pred_test)\n",
        "precision_test = precision_score(y_test, y_pred_test, average='weighted')\n",
        "recall_test = recall_score(y_test, y_pred_test, average='weighted')\n",
        "f1_test = f1_score(y_test, y_pred_test, average='weighted')\n",
        "conf_matrix_test = confusion_matrix(y_test, y_pred_test)\n",
        "\n",
        "print(\"Kết quả trên tập test:\")\n",
        "print(f\"Accuracy: {accuracy_test}\")\n",
        "print(f\"Precision: {precision_test}\")\n",
        "print(f\"Recall: {recall_test}\")\n",
        "print(f\"F1 Score: {f1_test}\")\n",
        "print(\"Confusion Matrix:\")\n",
        "print(conf_matrix_test)"
      ]
    }
  ],
  "metadata": {
    "colab": {
      "provenance": []
    },
    "kernelspec": {
      "display_name": "Python 3",
      "name": "python3"
    },
    "language_info": {
      "codemirror_mode": {
        "name": "ipython",
        "version": 3
      },
      "file_extension": ".py",
      "mimetype": "text/x-python",
      "name": "python",
      "nbconvert_exporter": "python",
      "pygments_lexer": "ipython3",
      "version": "3.10.11"
    }
  },
  "nbformat": 4,
  "nbformat_minor": 0
}
